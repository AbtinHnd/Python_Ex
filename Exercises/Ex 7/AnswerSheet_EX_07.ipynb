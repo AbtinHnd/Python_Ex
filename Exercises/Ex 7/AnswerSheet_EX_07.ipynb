{
 "cells": [
  {
   "cell_type": "markdown",
   "id": "fb7a8054",
   "metadata": {},
   "source": [
    "<div style=\"color: white;padding-top:18px;text-align:center;background-color:#8B008B;border-radius:15px;border: 1px solid white;\"> \n",
    "    <h3>Exercise 7 (score:550)</h3>\n",
    "</div>"
   ]
  },
  {
   "cell_type": "markdown",
   "id": "bd5458df",
   "metadata": {},
   "source": [
    "<div style=\"color: black;font-family:Georgia;padding-top:18px;text-align:left;background-color:lightskyblue;border-radius:15px;border: 2px solid cornflowerblue;\">\n",
    "    <h4>Question 01 (Function)(100):</h4>\n",
    "    <p>\n",
    "        define two lists that one of them is strings and another is float, change values of both of them to int and create a list that is sum of them. use map function and lambda. \n",
    "    </p>\n",
    "</div>"
   ]
  },
  {
   "cell_type": "code",
   "execution_count": 4,
   "id": "99937553-2a26-4787-b365-d46f41243c5e",
   "metadata": {},
   "outputs": [
    {
     "name": "stdout",
     "output_type": "stream",
     "text": [
      "First List is: [12, 15, 25, 1000, 445, 147]\n",
      "Second List is: [12, 25, 758, 0, 1256, 25]\n",
      "Sum of This 2 is: [24, 40, 783, 1000, 1701, 172]\n"
     ]
    }
   ],
   "source": [
    "li1 = ['12','15','25','1000','445','147']\n",
    "li2 = [12.5,25.1,758.45,00.22,1256,25.1236548]\n",
    "def to_int(lis):\n",
    "    x = list(map(int,lis))\n",
    "    return x\n",
    "def sum_(lis1,lis2):\n",
    "    y = list(map(lambda x,y : x + y,lis1,lis2))\n",
    "    return y\n",
    "\n",
    "list1 = to_int(li1)\n",
    "list2 = to_int(li2)\n",
    "list3 = sum_(list1,list2)\n",
    "print(f'First List is: {list1}')\n",
    "print(f'Second List is: {list2}')\n",
    "print(f'Sum of This 2 is: {list3}')"
   ]
  },
  {
   "cell_type": "markdown",
   "id": "014bb5de",
   "metadata": {},
   "source": [
    "<div style=\"color: black;font-family:Georgia;padding-top:18px;text-align:left;background-color:lightskyblue;border-radius:15px;border: 2px solid cornflowerblue;\">\n",
    "    <h4>Question 02 (Function)(100):</h4>\n",
    "    <p>\n",
    "        Write a Python program where users input two numbers and choose an operation ( +, -, *, /,**).Use lambda functions for calculations. If division is chosen and the second number is zero, replace it with one, notify the user, and proceed. The program should handle invalid operations gracefully.  \n",
    "    </p>\n",
    "</div>"
   ]
  },
  {
   "cell_type": "code",
   "execution_count": 6,
   "id": "064621d4",
   "metadata": {},
   "outputs": [
    {
     "name": "stdout",
     "output_type": "stream",
     "text": [
      "Your Answer is: 13.0 * 14.0 = 182.00\n"
     ]
    }
   ],
   "source": [
    "def calculator():\n",
    "    num1 = float(input(\"Give first number: \"))\n",
    "    num2 = float(input('Give second number: '))\n",
    "    op = input('Give us an operation between \\n 1.(+) \\n 2.(-) \\n 3.(*) \\n 4.(/) \\n 5.(**): ')\n",
    "    answer = lambda op, num1, num2: (\n",
    "        num1 + num2 if op in ('1', '+') else \n",
    "        num1 - num2 if op in ('2', '-') else\n",
    "        num1 * num2 if op in ('3', '*') else\n",
    "        (num1 / num2 if num2 != 0 else (num1 / 1, print(\"Second number is zero. Replaced with 1.\"))[0]) if op in ('4', '/') else\n",
    "        num1 ** num2 if op in ('5', '**') else\n",
    "        'Invalid Operation'\n",
    "    )\n",
    "    \n",
    "    sym = lambda op: (\n",
    "        '+' if op in ('1', '+') else\n",
    "        '-' if op in ('2', '-') else\n",
    "        '*' if op in ('3', '*') else\n",
    "        '/' if op in ('4', '/') else \n",
    "        '**' if op in ('5', '**') else \n",
    "        'Invalid'\n",
    "    )\n",
    "\n",
    "    op_sym = sym(op)\n",
    "    result = answer(op,num1,num2 )\n",
    "\n",
    "    if op_sym == 'Invalid':  \n",
    "        print('Invalid Operation')\n",
    "    else:\n",
    "        print(f'Your Answer is: {num1} {op_sym} {num2} = {result:.2f}')\n",
    "\n",
    "\n",
    "calculator()\n"
   ]
  },
  {
   "cell_type": "markdown",
   "id": "5c81e750",
   "metadata": {},
   "source": [
    "<div style=\"color: black;font-family:Georgia;padding-top:18px;text-align:left;background-color:lightskyblue;border-radius:15px;border: 2px solid cornflowerblue;\">\n",
    "    <h4>Question 03 (Function)(100):</h4>\n",
    "    <p>\n",
    "        You have a list of numbers, and you need to perform the following tasks using the filter function: </p> \n",
    "        <p>•\tWrite a function that filters out all the negative numbers from the list.</p>\n",
    "        <p>•\tWrite a function that filters out all the numbers that are less than the average of the list.</p>\n",
    "       <p> •\tWrite a function that filters out all the even numbers from the list.</p>\n",
    "    </p>\n",
    "</div>"
   ]
  },
  {
   "cell_type": "code",
   "execution_count": 14,
   "id": "50e67dcd",
   "metadata": {},
   "outputs": [
    {
     "name": "stdout",
     "output_type": "stream",
     "text": [
      "Negative Numbers in List is: [-14, -56, -78]\n",
      "Less Than Avarage Numbers in List is: [12, -14, -56, -78, 12, 17]\n",
      "Even Numbers in List is: [12, -14, -56, -78, 12, 1456]\n"
     ]
    }
   ],
   "source": [
    "def neg_num(lis):\n",
    "    final_list = list(filter(lambda y : y < 0  , lis))\n",
    "    return final_list\n",
    "\n",
    "def less_avg(lis):\n",
    "    avg = sum(lis) / len(lis)\n",
    "    sec_list = list(filter(lambda x: x < avg , lis ))\n",
    "    return sec_list\n",
    "\n",
    "def even_num (lis):\n",
    "    third_list = list(filter(lambda x: x % 2 == 0,lis))\n",
    "    return third_list\n",
    "\n",
    "list1 = []\n",
    "for i in range(100):\n",
    "    g = input(\"give us your list numbers (when you want to exit write exit in input): \")\n",
    "    if g == 'exit':\n",
    "        break\n",
    "    elif g.isalpha():\n",
    "        continue\n",
    "    else:\n",
    "        g = int(g)\n",
    "        list1.append(g)\n",
    "\n",
    "\n",
    "\n",
    "manfi = neg_num(list1)\n",
    "kamtar= less_avg(list1)\n",
    "zooj = even_num(list1)\n",
    "\n",
    "print(f'Negative Numbers in List is: {manfi}')\n",
    "print(f'Less Than Avarage Numbers in List is: {kamtar}')\n",
    "print(f'Even Numbers in List is: {zooj}')\n",
    "\n",
    "\n"
   ]
  },
  {
   "cell_type": "markdown",
   "id": "34326ff6",
   "metadata": {},
   "source": [
    "<div style=\"color: black;font-family:Georgia;padding-top:18px;text-align:left;background-color:lightskyblue;border-radius:15px;border: 2px solid cornflowerblue;\">\n",
    "    <h4>Question 04 (Function)(100):</h4>\n",
    "    <p>\n",
    "        Write a function that takes a list of email addresses and returns a new list containing only the valid email addresses. For simplicity, consider an email valid if it contains exactly one \"@11 symbol and at least one \".11 after the 11@\" symbol. Use the filter function to accomplish this. \n",
    "    </p>\n",
    "</div>"
   ]
  },
  {
   "cell_type": "code",
   "execution_count": 12,
   "id": "3384ea23",
   "metadata": {},
   "outputs": [
    {
     "name": "stdout",
     "output_type": "stream",
     "text": [
      "our Valid emails is: ['abtin.hosseinnezhad@gmail.com', 'another.email@....']\n"
     ]
    }
   ],
   "source": [
    "def is_valid(email):\n",
    "\n",
    "    if len(email) > 3:\n",
    "        if email.count('@') == 1:\n",
    "            x, y = email.split('@')\n",
    "            return '.' in y\n",
    "        return False\n",
    "    return False\n",
    "\n",
    "def valid_email(email_list):\n",
    "    return list(filter(is_valid, email_list))\n",
    "\n",
    "emails = ['abtin.hosseinnezhad@gmail.com', 'aa@', 'another.email@....', 'test@domain..co@@','@.']\n",
    "valid_emails = valid_email(emails)\n",
    "print(f'our Valid emails is: {valid_emails}')\n"
   ]
  },
  {
   "cell_type": "markdown",
   "id": "f31d7edb",
   "metadata": {},
   "source": [
    "<div style=\"color: black;font-family:Georgia;padding-top:18px;text-align:left;background-color:lightskyblue;border-radius:15px;border: 2px solid cornflowerblue;\">\n",
    "    <h4>Question 05 (Function)(100):</h4>\n",
    "    <p>\n",
    "        Write a function that takes a list of integers and checks if any of the numbers are greater than 100 but less than 200. The function should return True if at least one number in the list falls \n",
    "        within this range, otherwise False. \n",
    "    </p>\n",
    "</div>"
   ]
  },
  {
   "cell_type": "code",
   "execution_count": 3,
   "id": "6fb8490b",
   "metadata": {},
   "outputs": [
    {
     "name": "stdout",
     "output_type": "stream",
     "text": [
      "True\n"
     ]
    }
   ],
   "source": [
    "def chack_num(lis):\n",
    "    t = any(map(lambda x : 100 < x < 200 , lis))\n",
    "    return t\n",
    "\n",
    "list1 = [501,225,159,201]\n",
    "y = chack_num(list1)\n",
    "print(y)"
   ]
  },
  {
   "cell_type": "markdown",
   "id": "5a2189dd",
   "metadata": {},
   "source": [
    "<div style=\"color: black;font-family:Georgia;padding-top:18px;text-align:left;background-color:lightskyblue;border-radius:15px;border: 2px solid cornflowerblue;\">\n",
    "    <h4>Question 06 (Function)(50):</h4>\n",
    "    <p>\n",
    "        Define a function that takes a sentence as input and returns the number of words in the sentence. \n",
    "    </p>\n",
    "</div>"
   ]
  },
  {
   "cell_type": "code",
   "execution_count": 61,
   "id": "e7a1fa52",
   "metadata": {},
   "outputs": [
    {
     "name": "stdout",
     "output_type": "stream",
     "text": [
      "Your sentence : Abtin hosseinnezhad from ardabil is here\n",
      "Number of Words in sentence is :6\n"
     ]
    }
   ],
   "source": [
    "def num_word(sen):\n",
    "    x = sen.split(' ')\n",
    "    x_len = len(x)\n",
    "    print(f'Your sentence : {sen}')\n",
    "    print(f'Number of Words in sentence is :{x_len}')\n",
    "\n",
    "\n",
    "\n",
    "sentence = input('give us sentence That you want to calculate number of Words: ') \n",
    "num_word(sentence)\n",
    "\n",
    "\n",
    "\n"
   ]
  },
  {
   "cell_type": "markdown",
   "id": "293056e3",
   "metadata": {},
   "source": [
    "<h2 style=\"color: blue:; background-color: purple\">Good luck</h2>"
   ]
  }
 ],
 "metadata": {
  "kernelspec": {
   "display_name": "Python 3 (ipykernel)",
   "language": "python",
   "name": "python3"
  },
  "language_info": {
   "codemirror_mode": {
    "name": "ipython",
    "version": 3
   },
   "file_extension": ".py",
   "mimetype": "text/x-python",
   "name": "python",
   "nbconvert_exporter": "python",
   "pygments_lexer": "ipython3",
   "version": "3.12.4"
  }
 },
 "nbformat": 4,
 "nbformat_minor": 5
}
