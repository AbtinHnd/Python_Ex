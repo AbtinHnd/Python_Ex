{
 "cells": [
  {
   "cell_type": "markdown",
   "id": "fb7a8054",
   "metadata": {},
   "source": [
    "<div style=\"color: white;padding-top:0px;text-align:center;background-color:#257662;border-radius:15px;border: 1px solid white;\"> \n",
    "    <h3>Exercise 1 (score:350)</h3>\n",
    "</div>"
   ]
  },
  {
   "cell_type": "markdown",
   "id": "bd5458df",
   "metadata": {},
   "source": [
    "<div style=\"color: white;padding-top:0px;text-align:left;background-color:red;border-radius:15px;border: 1px solid white;\"> \n",
    "    <h4>Question 01 (Basic)(50):</h4>\n",
    "</div>"
   ]
  },
  {
   "cell_type": "code",
   "execution_count": 7,
   "id": "37ae1073-8e31-426a-ac70-111e4ffe2256",
   "metadata": {},
   "outputs": [
    {
     "name": "stdout",
     "output_type": "stream",
     "text": [
      "12\n",
      "123\n"
     ]
    }
   ],
   "source": [
    "##Convert to Int\n",
    "\n",
    "#it will run ok \n",
    "num1 = 12.45\n",
    "#this part give us error that relate 'ValueError' \n",
    "num2 = \"12.45\"\n",
    "#this code will be run ok and give output 1\n",
    "flag1 = True\n",
    "#this cide will give us a error name 'valueError' \n",
    "code = \"a123\"\n",
    "#its will run ok\n",
    "num3 = \"0123\"\n",
    "\n",
    "num1 = int(num1)\n",
    "print(num1)\n",
    "num2 = int(num2)\n",
    "print(num2)\n",
    "flag1 = int(flag1)\n",
    "print(flag1)\n",
    "code = int(code)\n",
    "print(code)\n",
    "num3 = int(num3)\n",
    "print(num3)"
   ]
  },
  {
   "cell_type": "code",
   "execution_count": 13,
   "id": "e7c290fc",
   "metadata": {},
   "outputs": [
    {
     "name": "stdout",
     "output_type": "stream",
     "text": [
      "4.0\n",
      "4.7\n",
      "51.0\n"
     ]
    },
    {
     "ename": "ValueError",
     "evalue": "could not convert string to float: 'python'",
     "output_type": "error",
     "traceback": [
      "\u001b[1;31m---------------------------------------------------------------------------\u001b[0m",
      "\u001b[1;31mValueError\u001b[0m                                Traceback (most recent call last)",
      "Cell \u001b[1;32mIn[13], line 19\u001b[0m\n\u001b[0;32m     17\u001b[0m num7 \u001b[38;5;241m=\u001b[39m \u001b[38;5;28mfloat\u001b[39m(num7)\n\u001b[0;32m     18\u001b[0m \u001b[38;5;28mprint\u001b[39m(num7)\n\u001b[1;32m---> 19\u001b[0m name \u001b[38;5;241m=\u001b[39m \u001b[38;5;28;43mfloat\u001b[39;49m\u001b[43m(\u001b[49m\u001b[43mname\u001b[49m\u001b[43m)\u001b[49m\n\u001b[0;32m     20\u001b[0m \u001b[38;5;28mprint\u001b[39m(name)\n",
      "\u001b[1;31mValueError\u001b[0m: could not convert string to float: 'python'"
     ]
    }
   ],
   "source": [
    "##Convert Float\n",
    "\n",
    "\n",
    "#it will run ok and output is 10.0\n",
    "num4 = 10\n",
    "# it will run ok and output is 4.0\n",
    "num5 = 4.\n",
    "#it will run ok and output is 4.7\n",
    "num6 = \"4.7\"\n",
    "#it will be run ok and output is 51.0\n",
    "num7 = \"51\"\n",
    "#we have'ValueError' in ths convert\n",
    "name = \"python\"\n",
    "\n",
    "num4 = float(num4)\n",
    "print(num4)\n",
    "num5 = float(num5)\n",
    "print(num5)\n",
    "num6 = float(num6)\n",
    "print(num6)\n",
    "num7 = float(num7)\n",
    "print(num7)\n",
    "name = float(name)\n",
    "print(name)"
   ]
  },
  {
   "cell_type": "code",
   "execution_count": 19,
   "id": "b5dd4f94",
   "metadata": {},
   "outputs": [
    {
     "name": "stdout",
     "output_type": "stream",
     "text": [
      "False\n",
      "True\n",
      "False\n",
      "True\n",
      "False\n"
     ]
    }
   ],
   "source": [
    "##Convert  Bool\n",
    "#it will run ok \n",
    "flag3 = False\n",
    "#it will run ok \n",
    "flag4 = \"False\"\n",
    "#it will run ok \n",
    "name1 = \"\"\n",
    "#IT will run ok\n",
    "name2 = \" \"\n",
    "#it will run ok \n",
    "num8 = 0\n",
    "\n",
    "flag3 = bool(flag3)\n",
    "print(flag3)\n",
    "flag4 = bool(flag4)\n",
    "print(flag4)\n",
    "name1 = bool(name1)\n",
    "print(name1)\n",
    "name2 = bool(name2)\n",
    "print(name2)\n",
    "num8 = bool(num8)\n",
    "print(num8)\n"
   ]
  },
  {
   "cell_type": "code",
   "execution_count": 23,
   "id": "bbfdb76b",
   "metadata": {},
   "outputs": [
    {
     "name": "stdout",
     "output_type": "stream",
     "text": [
      "False\n",
      "0.0\n"
     ]
    }
   ],
   "source": [
    "# it will run ok\n",
    "flag = False\n",
    "#it will run ok \n",
    "num = 0.000\n",
    "\n",
    "flag = str(flag)\n",
    "print(flag)\n",
    "num = str(num)\n",
    "print(num)"
   ]
  },
  {
   "cell_type": "markdown",
   "id": "1d00f89c",
   "metadata": {},
   "source": [
    "<div style=\"color: white;padding-top:0px;text-align:left;background-color:red;border-radius:15px;border: 1px solid white;\"> \n",
    "    <h4>Question 02 (Basic)(50)</h4>\n",
    "</div>"
   ]
  },
  {
   "cell_type": "code",
   "execution_count": 32,
   "id": "3816d8c6-4af5-4d92-8c4b-042a7f86fb7e",
   "metadata": {},
   "outputs": [
    {
     "name": "stdout",
     "output_type": "stream",
     "text": [
      "800.0 \n",
      " 900\n"
     ]
    }
   ],
   "source": [
    "x = \"300\"\n",
    "y = int(x)\n",
    "z = y + 200\n",
    "a = float(z)\n",
    "#b = a + x\n",
    "#c = int(b) + 100\n",
    "\n",
    "\n",
    "\n",
    "#in this code we have a error \"TypeError\" in b variable\n",
    "# and becuase of b error c will not run\n",
    "\n",
    "h = float(x)\n",
    "b = a + h\n",
    "c = int(b) + 100\n",
    "print(b,\"\\n\",c)\n"
   ]
  },
  {
   "cell_type": "code",
   "execution_count": 34,
   "id": "8847285d",
   "metadata": {},
   "outputs": [
    {
     "name": "stdout",
     "output_type": "stream",
     "text": [
      "250 \n",
      " 250 \n",
      " 83 \n",
      " 83 \n",
      " 83250 \n",
      " 41625\n"
     ]
    }
   ],
   "source": [
    "x = \"250\"\n",
    "y = int(x)\n",
    "z = y // 3\n",
    "a = str(z)\n",
    "b = a + x\n",
    "c = int(b) // 2\n",
    "\n",
    "print(x,\"\\n\",y,\"\\n\",z,\"\\n\",a,\"\\n\",b,\"\\n\",c)\n",
    "\n",
    "# its will run ok"
   ]
  },
  {
   "cell_type": "markdown",
   "id": "db081bf6",
   "metadata": {},
   "source": [
    "<div style=\"color: white;padding-top:0px;text-align:left;background-color:red;border-radius:15px;border: 1px solid white;\"> \n",
    "    <h4>Question 03 (Basic)(50)</h4>\n",
    "</div>"
   ]
  },
  {
   "cell_type": "code",
   "execution_count": 45,
   "id": "365f6809-06ab-43ce-8f15-eb94e950723c",
   "metadata": {},
   "outputs": [
    {
     "data": {
      "text/plain": [
       "True"
      ]
     },
     "execution_count": 45,
     "metadata": {},
     "output_type": "execute_result"
    }
   ],
   "source": [
    "x = input(\"give us a word: \")\n",
    "x == \"yes\" or x == \"no\""
   ]
  },
  {
   "cell_type": "markdown",
   "id": "685a1886",
   "metadata": {},
   "source": [
    "<div style=\"color: white;padding-top:0px;text-align:left;background-color:red;border-radius:15px;border: 1px solid white;\"> \n",
    "    <h4>Question 04 (Basic)(50)</h4>\n",
    "</div>"
   ]
  },
  {
   "cell_type": "code",
   "execution_count": 51,
   "id": "13d828cf-b55b-4486-b176-a6a73ff3ca23",
   "metadata": {},
   "outputs": [
    {
     "data": {
      "text/plain": [
       "True"
      ]
     },
     "execution_count": 51,
     "metadata": {},
     "output_type": "execute_result"
    }
   ],
   "source": [
    "x = input(\"give us a input: \")\n",
    "x != \"\""
   ]
  },
  {
   "cell_type": "markdown",
   "id": "7498e245-7d08-4954-a7de-08f891427cc1",
   "metadata": {},
   "source": [
    "<div style=\"color: white;padding-top:0px;text-align:left;background-color:red;border-radius:15px;border: 1px solid white;\"> \n",
    "    <h4>Question 05 (Basic)(50)</h4>\n",
    "</div>"
   ]
  },
  {
   "cell_type": "code",
   "execution_count": 56,
   "id": "e70e6a6b-5c16-4135-9e76-c459febfa6eb",
   "metadata": {},
   "outputs": [
    {
     "name": "stdout",
     "output_type": "stream",
     "text": [
      "Temperature To Fahrenheit:  91.4\n"
     ]
    }
   ],
   "source": [
    "Celsius = input(\"Give Temperature in Celsius: \")\n",
    "Fahrenheit = (9/5) *int(Celsius) + 32\n",
    "print(\"Temperature To Fahrenheit: \",Fahrenheit)"
   ]
  },
  {
   "cell_type": "markdown",
   "id": "631be292-3395-46eb-9244-2a5f44997d82",
   "metadata": {},
   "source": [
    "<div style=\"color: white;padding-top:0px;text-align:left;background-color:red;border-radius:15px;border: 1px solid white;\"> \n",
    "    <h4>Question 06 (Basic)(50)</h4>\n",
    "</div>"
   ]
  },
  {
   "cell_type": "code",
   "execution_count": 59,
   "id": "64767ede-9a93-4da2-ad6a-011d81fe414d",
   "metadata": {},
   "outputs": [
    {
     "name": "stdout",
     "output_type": "stream",
     "text": [
      "30 20\n"
     ]
    }
   ],
   "source": [
    "'''this code has a problem that in variable num4 and 5 \n",
    "we have 3 input but in num 6,7 and 8 we have 2 input \n",
    "and for do it write we should give 2 input for num 4 and 5\n",
    "and 3 input for num 6,7,8 '''\n",
    "num1,num2,num3 = 17,1.8,28\n",
    "num4,num5 = 45,12,19\n",
    "num6,num7,num8 = 200,30\n",
    "name,score,passed = \"sara\",19,True\n",
    "var1 = var2 = var3 = 500\n",
    "num1 = 20\n",
    "num2 = 30\n",
    "num1,num2 = num2 ,num1 \n",
    "print(num1,num2)"
   ]
  },
  {
   "cell_type": "code",
   "execution_count": 1,
   "id": "bae63f54",
   "metadata": {},
   "outputs": [
    {
     "name": "stdout",
     "output_type": "stream",
     "text": [
      "30 20\n"
     ]
    }
   ],
   "source": [
    "# fixed code \n",
    "num1,num2,num3 = 17,1.8,28\n",
    "num4,num5 = 45,12\n",
    "num6,num7,num8 = 200,300,400\n",
    "name,score,passed = \"sara\",19,True\n",
    "var1 = var2 = var3 = 500\n",
    "num1 = 20\n",
    "num2 = 30\n",
    "num1,num2 = num2 ,num1 \n",
    "print(num1,num2)"
   ]
  },
  {
   "cell_type": "markdown",
   "id": "cb8bde05",
   "metadata": {},
   "source": [
    "<div style=\"color: white;padding-top:18px;text-align:left;background-color:red;border-radius:15px;border: 1px solid white;\"> \n",
    "    <h4>Question 05 (String)(80)</h4>\n",
    "<p> Write a program that prompts the user to enter a password. The program\n",
    "should validate the password based on the following criteria</p>\n",
    "\n",
    "</div>"
   ]
  },
  {
   "cell_type": "raw",
   "id": "fc5d6ee9",
   "metadata": {},
   "source": [
    "The length of the password must be exactly 8 characters.\n",
    "The first four characters of the password must be letters (alphabets).\n",
    "The last four characters of the password must be digits (numbers).\n",
    "If the password meets all the above criteria, the program should display \"Valid\".\n",
    "Otherwise, it should display \"Invalid\"."
   ]
  },
  {
   "cell_type": "code",
   "execution_count": 21,
   "id": "a04b6d1f",
   "metadata": {},
   "outputs": [
    {
     "name": "stdout",
     "output_type": "stream",
     "text": [
      "Enter Your Password:  mmmm1234\n"
     ]
    },
    {
     "name": "stdout",
     "output_type": "stream",
     "text": [
      "len : 8 \n",
      "part1: mmmm \n",
      "part2: 1234\n",
      "Valid\n"
     ]
    }
   ],
   "source": [
    "# write code here: \n",
    "\n",
    "password = input(\"Enter Your Password: \")\n",
    "\n",
    "len_pass = len(password)\n",
    "\n",
    "middle = len_pass//2\n",
    "\n",
    "part1 = password[:middle]\n",
    "\n",
    "part2 = password[middle:]\n",
    "\n",
    "print(\"len :\",len_pass,\"\\npart1:\",part1,\"\\npart2:\",part2)\n",
    "\n",
    "if len_pass == 8 and part1.isalpha() and part2.isdigit():\n",
    "    \n",
    "    print(\"Valid\")\n",
    "    \n",
    "else:\n",
    "    \n",
    "    print(\"Invalid\")"
   ]
  },
  {
   "cell_type": "markdown",
   "id": "f4491296",
   "metadata": {},
   "source": [
    "<div style=\"color: white;padding-top:0px;text-align:center;background-color:#257662;border-radius:15px;border: 1px solid white;\"> \n",
    "    <h3>Exercise 2 (score:200)</h3>\n",
    "</div>"
   ]
  },
  {
   "cell_type": "markdown",
   "id": "360428f2",
   "metadata": {},
   "source": [
    "<div style=\"color: white;padding-top:0px;text-align:left;background-color:red;border-radius:15px;border: 1px solid white;\"> \n",
    "    <h4>Question 01 (Condition)(50)</h4>\n",
    "</div>"
   ]
  },
  {
   "cell_type": "code",
   "execution_count": 6,
   "id": "b5e76b02-d935-45b4-aa63-c23ec3282906",
   "metadata": {},
   "outputs": [
    {
     "name": "stdout",
     "output_type": "stream",
     "text": [
      "Vowel\n"
     ]
    }
   ],
   "source": [
    "letter = input(\"Give us a letter: \")\n",
    "if letter == 'a' or letter == 'A':\n",
    "    print(\"Vowel\")\n",
    "elif letter == 'e' or letter == 'E':\n",
    "    print('Vowel')\n",
    "elif letter == 'i' or letter == 'I':\n",
    "    print('Vowel')\n",
    "elif letter == 'o' or letter == 'O':\n",
    "    print('Vowel')\n",
    "elif letter == 'u' or letter == 'U':\n",
    "    print('Vowel')\n",
    "else:\n",
    "    print(\"Consonant\")"
   ]
  },
  {
   "cell_type": "markdown",
   "id": "3a869f83",
   "metadata": {},
   "source": [
    "<div style=\"color: white;padding-top:0px;text-align:left;background-color:red;border-radius:15px;border: 1px solid white;\"> \n",
    "    <h4>Question 02 (Condition)(50)</h4>\n",
    "</div>"
   ]
  },
  {
   "cell_type": "code",
   "execution_count": 12,
   "id": "b5fdaf97-807f-495b-8e42-3bac23a8b14a",
   "metadata": {},
   "outputs": [
    {
     "name": "stdout",
     "output_type": "stream",
     "text": [
      "In Range\n"
     ]
    }
   ],
   "source": [
    "number = input(\"Give us a Number: \")\n",
    "if 10 <= int(number) <=20 :\n",
    "    print(\"In Range\")\n",
    "else:\n",
    "    print(\"Out Of Range\")"
   ]
  },
  {
   "cell_type": "markdown",
   "id": "e3adf415",
   "metadata": {},
   "source": [
    "<div style=\"color: white;padding-top:0px;text-align:left;background-color:red;border-radius:15px;border: 1px solid white;\"> \n",
    "    <h4>Question 03 (Condition)(50)</h4>\n",
    "</div>"
   ]
  },
  {
   "cell_type": "code",
   "execution_count": 15,
   "id": "d5329c84-1107-41d7-ad15-681a0442828c",
   "metadata": {},
   "outputs": [
    {
     "name": "stdout",
     "output_type": "stream",
     "text": [
      "Greater\n"
     ]
    }
   ],
   "source": [
    "num1 = input(\"Give first Number: \")\n",
    "num2 = input(\"Give Second Number: \")\n",
    "sum = int(num1) + int(num2)\n",
    "if int(sum) > 20:\n",
    "    print(\"Greater\")\n",
    "else:\n",
    "    print(\"Not Greater\")"
   ]
  },
  {
   "cell_type": "markdown",
   "id": "3eb93eb1",
   "metadata": {},
   "source": [
    "<div style=\"color: white;padding-top:0px;text-align:left;background-color:red;border-radius:15px;border: 1px solid white;\"> \n",
    "    <h4>Question 04 (Condition)(50)</h4>\n",
    "</div>"
   ]
  },
  {
   "cell_type": "code",
   "execution_count": 19,
   "id": "99937553-2a26-4787-b365-d46f41243c5e",
   "metadata": {},
   "outputs": [
    {
     "name": "stdout",
     "output_type": "stream",
     "text": [
      "No Colors Match\n"
     ]
    }
   ],
   "source": [
    "color1 = input(\"Give First color: \")\n",
    "color2 = input(\"Give Second color: \")\n",
    "color3 = input(\"Give Third color: \")\n",
    "if color1 == color2 == color3 :\n",
    "    print(\"All Colors Match\")\n",
    "elif (color1 == color2) or (color1 == color3) or (color2 == color3):\n",
    "    print(\"Two Colors Match\")\n",
    "else:\n",
    "    print(\"No Colors Match\")"
   ]
  },
  {
   "cell_type": "markdown",
   "id": "293056e3",
   "metadata": {},
   "source": [
    "<h2 style=\"color: blue:; background-color: purple\">Good luck</h2>"
   ]
  }
 ],
 "metadata": {
  "kernelspec": {
   "display_name": "Python 3 (ipykernel)",
   "language": "python",
   "name": "python3"
  },
  "language_info": {
   "codemirror_mode": {
    "name": "ipython",
    "version": 3
   },
   "file_extension": ".py",
   "mimetype": "text/x-python",
   "name": "python",
   "nbconvert_exporter": "python",
   "pygments_lexer": "ipython3",
   "version": "3.12.4"
  }
 },
 "nbformat": 4,
 "nbformat_minor": 5
}
