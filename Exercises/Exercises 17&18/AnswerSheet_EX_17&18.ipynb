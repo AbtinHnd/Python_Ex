{
 "cells": [
  {
   "cell_type": "markdown",
   "id": "fb7a8054",
   "metadata": {},
   "source": [
    "<div style=\"color: white;padding-top:18px;text-align:center;background-color:#8B008B;border-radius:15px;border: 1px solid white;\"> \n",
    "    <h3>Exercise 17 (score:120 + 50)</h3>\n",
    "</div>"
   ]
  },
  {
   "cell_type": "markdown",
   "id": "27cc5061",
   "metadata": {},
   "source": [
    "https://github.com/AbtinHnd/Python_Ex/tree/main/Exercises/Exercises%2017%2618"
   ]
  },
  {
   "cell_type": "markdown",
   "id": "bd5458df",
   "metadata": {},
   "source": [
    "<div style=\"color: black;font-family:Georgia;padding-top:18px;text-align:left;background-color:lightskyblue;border-radius:15px;border: 2px solid cornflowerblue;\">\n",
    "    <h4>Question 01 (Inheritance)(120):</h4>\n",
    "    <p>\n",
    "        Using four different examples, demonstrate all ofthe inheritance types that you have learned.\n",
    "        </p> \n",
    "<li>Single Inheritance</li>\n",
    "<li>Multiple Inheritance</li>\n",
    "<li>Multilevel Inheritance</li> \n",
    "<li>Hierarchical Inheritance</li>\n",
    "    \n",
    "</div>"
   ]
  },
  {
   "cell_type": "code",
   "execution_count": 6,
   "id": "99937553-2a26-4787-b365-d46f41243c5e",
   "metadata": {},
   "outputs": [
    {
     "name": "stdout",
     "output_type": "stream",
     "text": [
      "momo\n",
      "----------DOG class---------\n",
      "jesi\n",
      "HOp Hop!!\n",
      "This Dog eat meat\n",
      "info is : name: jesi ** age : 3 ** color white  ** Food : meat\n"
     ]
    }
   ],
   "source": [
    "# single Inheritance\n",
    "\n",
    "class Pet:\n",
    "    def __init__(self,name,age,color):\n",
    "        self.name = name\n",
    "        self.age = age\n",
    "        self.color = color\n",
    "    \n",
    "    def call_name(self):\n",
    "        return self.name\n",
    "    \n",
    "    def sound(self):\n",
    "        pass\n",
    "    def info(self):\n",
    "        return f'info is : name: {self.name} ** age : {self.age} ** color {self.color} '\n",
    "\n",
    "\n",
    "class Dog(Pet):\n",
    "    def __init__(self, name, age, color,food):\n",
    "        super().__init__(name, age, color)\n",
    "        self.food = food\n",
    "    def call_name(self):\n",
    "        return super().call_name()\n",
    "    def sound(self):\n",
    "        print(\"HOp Hop!!\")\n",
    "    def eat(self):\n",
    "        print(f'This Dog eat {self.food}')\n",
    "    def info(self):\n",
    "        c = super().info()\n",
    "        return f\"{c} ** Food : {self.food}\"\n",
    "\n",
    "\n",
    "p = Pet(\"momo\",8,'Yellow')\n",
    "print(p.call_name())\n",
    "print('----------DOG class---------')\n",
    "dog1 = Dog(\"jesi\",3,\"white\",'meat')\n",
    "print(dog1.call_name())\n",
    "dog1.sound()\n",
    "dog1.eat()\n",
    "print(dog1.info())\n"
   ]
  },
  {
   "cell_type": "code",
   "execution_count": 7,
   "id": "97467930",
   "metadata": {},
   "outputs": [
    {
     "name": "stdout",
     "output_type": "stream",
     "text": [
      "momo\n",
      "info is : name: momo ** age : 8 ** color Yellow \n",
      "----------DOG class---------\n",
      "jesi\n",
      "HOp Hop!!\n",
      "This Dog eat meat\n",
      "info is : name: jesi ** age : 3 ** color white  ** Food : meat\n",
      "----------CAT Class---------\n",
      "nel\n",
      "Meaw Meaw!!\n",
      "This cat is from Persian Breed\n",
      "info is : name: nel ** age : 2 ** color Brown  ** Breed : Persian\n"
     ]
    }
   ],
   "source": [
    "\n",
    "#Hierarchical Inheritance\n",
    "class Pet:\n",
    "    def __init__(self,name,age,color):\n",
    "        self.name = name\n",
    "        self.age = age\n",
    "        self.color = color\n",
    "    \n",
    "    def call_name(self):\n",
    "        return self.name\n",
    "    \n",
    "    def sound(self):\n",
    "        pass\n",
    "    def info(self):\n",
    "        return f'info is : name: {self.name} ** age : {self.age} ** color {self.color} '\n",
    "\n",
    "\n",
    "class Dog(Pet):\n",
    "    def __init__(self, name, age, color,food):\n",
    "        super().__init__(name, age, color)\n",
    "        self.food = food\n",
    "    def call_name(self):\n",
    "        return super().call_name()\n",
    "    def sound(self):\n",
    "        print(\"HOp Hop!!\")\n",
    "    def eat(self):\n",
    "        print(f'This Dog eat {self.food}')\n",
    "    def info(self):\n",
    "        c = super().info()\n",
    "        return f\"{c} ** Food : {self.food}\"\n",
    "\n",
    "class Cat(Pet):\n",
    "    def __init__(self, name, age, color,breed):\n",
    "        super().__init__(name, age, color)\n",
    "        self.breed = breed\n",
    "    def call_name(self):\n",
    "        return super().call_name()\n",
    "    def sound(self):\n",
    "        print('Meaw Meaw!!')\n",
    "    def race(self):\n",
    "        print(f'This cat is from {self.breed} Breed')\n",
    "    def info(self):\n",
    "        c = super().info()\n",
    "        return f'{c} ** Breed : {self.breed}'\n",
    "\n",
    "\n",
    "p = Pet(\"momo\",8,'Yellow')\n",
    "print(p.call_name())\n",
    "print(p.info())\n",
    "print('----------DOG class---------')\n",
    "dog1 = Dog(\"jesi\",3,\"white\",'meat')\n",
    "print(dog1.call_name())\n",
    "dog1.sound()\n",
    "dog1.eat()\n",
    "print(dog1.info())\n",
    "print('----------CAT Class---------')\n",
    "cat1 = Cat(\"nel\", 2,'Brown','Persian')\n",
    "print(cat1.call_name())\n",
    "cat1.sound()\n",
    "cat1.race()\n",
    "print(cat1.info())"
   ]
  },
  {
   "cell_type": "code",
   "execution_count": 11,
   "id": "85c3cf0e",
   "metadata": {},
   "outputs": [
    {
     "name": "stdout",
     "output_type": "stream",
     "text": [
      "Europe has 45000000 KM Area and 2000000000 population\n",
      "-------------------------------\n",
      "Iran has 64000000 KM Area and 80000000 population with 8 kind of nation\n",
      "8 kind of Nation are living toghether in Iran\n",
      "----------------------------\n",
      "Tehran has 5000000 KM Area and 1000000 population with 4 kind of nation and Mayor of  this City is Mr.Daie\n",
      "4 kind of Nation are living toghether in Tehran\n"
     ]
    }
   ],
   "source": [
    "#Multilevel Inheritance\n",
    "class Continent:\n",
    "    def __init__(self,population,area,name):\n",
    "        self.area = area\n",
    "        self.population = population\n",
    "        self.name = name\n",
    "    \n",
    "    def display(self):\n",
    "        return f'{self.name} has {self.area} Area and {self.population} population'\n",
    "    \n",
    "class Country(Continent):\n",
    "    def __init__(self, population, area,name,nation):\n",
    "        super().__init__(population, area,name)\n",
    "        self.nation = nation\n",
    "    def display(self):\n",
    "        a = super().display()\n",
    "        return f'{a} with {self.nation} kind of nation'\n",
    "    def nations(self):\n",
    "        print(f'{self.nation} kind of Nation are living toghether in {self.name}')\n",
    "\n",
    "class City(Country):\n",
    "    def __init__(self, population, area, name, nation,mayor):\n",
    "        super().__init__(population, area, name, nation)\n",
    "        self.mayor = mayor\n",
    "    def display(self):\n",
    "        x = super().display()\n",
    "        return f'{x} and Mayor of  this City is {self.mayor}'\n",
    "    def nations(self):\n",
    "        return super().nations()\n",
    "    \n",
    "\n",
    "\n",
    "gh = Continent(2000000000,'45000000 KM','Europe')\n",
    "print(gh.display())\n",
    "print('-------------------------------')\n",
    "\n",
    "k = Country(80000000,'64000000 KM',\"Iran\",8)\n",
    "print(k.display())\n",
    "k.nations()\n",
    "print('----------------------------')\n",
    "\n",
    "s = City(1000000,'5000000 KM',\"Tehran\",4,\"Mr.Daie\")\n",
    "print(s.display())\n",
    "s.nations()\n"
   ]
  },
  {
   "cell_type": "code",
   "execution_count": 10,
   "id": "a6a9e232",
   "metadata": {},
   "outputs": [
    {
     "name": "stdout",
     "output_type": "stream",
     "text": [
      "Engine started\n",
      "Started to Move!!\n",
      "brand is BMW with 200 KM per HOUR and Black color and information of engine is 400 horse Power and TU5 is Type for Engine with Price of 20000 Dollar and realozed in 2024\n"
     ]
    }
   ],
   "source": [
    "#Multiple Inheritance\n",
    "\n",
    "class Vehicle:\n",
    "    def __init__(self , speed , brand , color):\n",
    "        self.brand = brand\n",
    "        self.speed = speed\n",
    "        self.color = color\n",
    "\n",
    "    def details(self):\n",
    "        return f'brand is {self.brand} with {self.speed} KM per HOUR and {self.color} color'\n",
    "    def move(self):\n",
    "        print('Started to Move!!')\n",
    "\n",
    "class Engine:\n",
    "    def __init__(self, hourse_power, type_of_engine):\n",
    "        self.hp = hourse_power\n",
    "        self.type_of_engine = type_of_engine\n",
    "    \n",
    "    def details(self):\n",
    "        return f'information of engine is {self.hp} horse Power and {self.type_of_engine} is Type for Engine'\n",
    "    \n",
    "    def start(self):\n",
    "        print('Engine started')\n",
    "    \n",
    "class Car(Vehicle,Engine):\n",
    "    def __init__(self, speed, brand, color,hourse_power,type_of_engine,price,year_of_product):\n",
    "        super().__init__(speed, brand, color)\n",
    "        Engine.__init__(self,hourse_power,type_of_engine)\n",
    "        self.price = price\n",
    "        self.year_of_product = year_of_product\n",
    "\n",
    "    def details(self):\n",
    "        z = super().details()\n",
    "        d = Engine.details(self)\n",
    "        return f'{z} and {d} with Price of {self.price} Dollar and realized in {self.year_of_product}'\n",
    "    \n",
    "    def move(self):\n",
    "        return super().move()\n",
    "    def start(self):\n",
    "        return super().start()\n",
    "    \n",
    "\n",
    "\n",
    "\n",
    "car1 = Car(200,\"BMW\",\"Black\",400,\"TU5\",20000,2024)\n",
    "car1.start()\n",
    "car1.move()\n",
    "print(car1.details())\n",
    "    \n"
   ]
  },
  {
   "cell_type": "markdown",
   "id": "d05c947f",
   "metadata": {},
   "source": [
    "<div style=\"color: white;padding-top:18px;text-align:center;background-color:#8B008B;border-radius:15px;border: 1px solid white;\"> \n",
    "    <h3>Exercise 18 (score:180 + 50)</h3>\n",
    "</div>"
   ]
  },
  {
   "cell_type": "markdown",
   "id": "34326ff6",
   "metadata": {},
   "source": [
    "<div style=\"color: black;font-family:Georgia;padding-top:18px;text-align:left;background-color:lightskyblue;border-radius:15px;border: 2px solid cornflowerblue;\">\n",
    "    <h4>Question 01 (Abstraction)(180):</h4>\n",
    "    <p>\n",
    "     Develop a library management system in Python with an abstract base class and specific\n",
    "subclasses using abstraction and polymorphism.\n",
    "    </p>\n",
    "    <p>Abstract Base Class - LibraryItem:</p>\n",
    "    <li>Attributes: ID,title, author.</li>\n",
    "<li>Abstract Method - display_details: Declare withoutimplementation. Subclasses will provide specific\n",
    "details.</li>\n",
    "<p>Subclass - Book:<p>\n",
    "<li>Additional Attributes: pages, genre</li>\n",
    "<li>display_details: Implementto print book's ID,title, author, pages, and genre<li>\n",
    "<p>Subclass - Magazine:</p>\n",
    "<li>Additional Attributes: issue_number, publication_date.</li>\n",
    "<li>display_details: Implementto print magazine's ID,title, issue number, and publication date.</li>\n",
    "<p>Subclass - Article:<p>\n",
    "<li>Additional Attributes: publication_date, summary.</li>\n",
    "<li>display_details: Implementto print article's ID,title, publication date, and summary.</li>\n",
    "</div>"
   ]
  },
  {
   "cell_type": "code",
   "execution_count": 2,
   "id": "2dc85e7c",
   "metadata": {},
   "outputs": [],
   "source": [
    "from abc import ABC,abstractmethod\n",
    "class LibraryItem(ABC):\n",
    "    def __init__(self,id_,title,author):\n",
    "        self.id_ = id_\n",
    "        self.title = title\n",
    "        self.author = author\n",
    "    \n",
    "    @abstractmethod\n",
    "    def display_details(self):\n",
    "        pass\n",
    "\n",
    "\n",
    "\n",
    "    "
   ]
  },
  {
   "cell_type": "code",
   "execution_count": 3,
   "id": "15b7a9d8",
   "metadata": {},
   "outputs": [],
   "source": [
    "class Book(LibraryItem):\n",
    "    def __init__(self,id_,title,author,genre,pages):\n",
    "        super().__init__(id_,title,author)\n",
    "        self.genre = genre\n",
    "        self.pages = pages\n",
    "    def display_details(self):\n",
    "        return f'Book ID : {self.id_} ** Title : {self.title} ** Author : {self.author} ** Genre : {self.genre} ** Pages : {self.pages}'"
   ]
  },
  {
   "cell_type": "code",
   "execution_count": 4,
   "id": "fc4b8f26",
   "metadata": {},
   "outputs": [],
   "source": [
    "class Magazine(LibraryItem):\n",
    "    def __init__(self,id_,title,author,issue_number,publication_date):\n",
    "        super().__init__(id_,title,author)\n",
    "        self.issue_number = issue_number\n",
    "        self.publication_date = publication_date\n",
    "    def display_details(self):\n",
    "        return f'Magazine ID : {self.id_} ** Title : {self.title} ** Author : {self.author} ** Issue Number : {self.issue_number} ** Publication Date : {self.publication_date}'\n",
    "    "
   ]
  },
  {
   "cell_type": "code",
   "execution_count": 5,
   "id": "bce0ecac",
   "metadata": {},
   "outputs": [],
   "source": [
    "class Article(LibraryItem):\n",
    "    def __init__(self, id_, title, author,publication_date,summery):\n",
    "        super().__init__(id_, title, author)\n",
    "        self.publication_date = publication_date\n",
    "        self.summery = summery\n",
    "    def display_details(self):\n",
    "        return f'Article ID : {self.id_} ** Title : {self.title} ** Author : {self.author} ** Publication Date : {self.publication_date} ** Summery : {self.summery}'"
   ]
  },
  {
   "cell_type": "code",
   "execution_count": 6,
   "id": "a1cd1174",
   "metadata": {},
   "outputs": [
    {
     "name": "stdout",
     "output_type": "stream",
     "text": [
      "Book ID : 100 ** Title : OS ** Author : Cylbershot ** Genre : Computer Science ** Pages : 1000\n",
      "Magazine ID : 200 ** Title : NewYourk Time ** Author : Meni ** Issue Number : 1000 ** Publication Date : 2021-08-01\n",
      "Article ID : 300 ** Title : ML in Medicane ** Author : Assad_ollah ** Publication Date : 2024 ** Summery : ML is using in medicane to predict the disease\n"
     ]
    }
   ],
   "source": [
    "book1 = Book(100,\"OS\",\"Cylbershot\",\"Computer Science\",1000)\n",
    "print(book1.display_details())\n",
    "mag1 = Magazine(200,\"NewYourk Time\",\"Meni\",\"1000\",\"2021-08-01\")\n",
    "print(mag1.display_details())\n",
    "article1 = Article(300,\"ML in Medicane\",\"Assad_ollah\",\"2024\",\"ML is using in medicane to predict the disease\")\n",
    "print(article1.display_details())"
   ]
  },
  {
   "cell_type": "markdown",
   "id": "293056e3",
   "metadata": {},
   "source": [
    "<h2 style=\"color: blue:; background-color: purple\">Don't give up on your dreams :)</h2>"
   ]
  }
 ],
 "metadata": {
  "kernelspec": {
   "display_name": "Python 3",
   "language": "python",
   "name": "python3"
  },
  "language_info": {
   "codemirror_mode": {
    "name": "ipython",
    "version": 3
   },
   "file_extension": ".py",
   "mimetype": "text/x-python",
   "name": "python",
   "nbconvert_exporter": "python",
   "pygments_lexer": "ipython3",
   "version": "3.12.4"
  }
 },
 "nbformat": 4,
 "nbformat_minor": 5
}
