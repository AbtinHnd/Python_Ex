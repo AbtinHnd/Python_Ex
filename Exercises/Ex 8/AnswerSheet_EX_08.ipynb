{
 "cells": [
  {
   "cell_type": "markdown",
   "id": "fb7a8054",
   "metadata": {},
   "source": [
    "<div style=\"color: white;padding-top:18px;text-align:center;background-color:#8B008B;border-radius:15px;border: 1px solid white;\"> \n",
    "    <h3>Exercise 8 (score:500)</h3>\n",
    "</div>"
   ]
  },
  {
   "cell_type": "markdown",
   "id": "bd5458df",
   "metadata": {},
   "source": [
    "<div style=\"color: black;font-family:Georgia;padding-top:18px;text-align:left;background-color:lightskyblue;border-radius:15px;border: 2px solid cornflowerblue;\">\n",
    "    <h4>Question 01 (Function)(100):</h4>\n",
    "    <p>\n",
    "        Write question of exercise 6 by function. \n",
    "    </p>\n",
    "</div>"
   ]
  },
  {
   "cell_type": "code",
   "execution_count": null,
   "id": "99937553-2a26-4787-b365-d46f41243c5e",
   "metadata": {},
   "outputs": [],
   "source": [
    "#Answer is in another python file"
   ]
  },
  {
   "cell_type": "markdown",
   "id": "014bb5de",
   "metadata": {},
   "source": [
    "<div style=\"color: black;font-family:Georgia;padding-top:18px;text-align:left;background-color:lightskyblue;border-radius:15px;border: 2px solid cornflowerblue;\">\n",
    "    <h4>Question 02 (dictionary)(100):</h4>\n",
    "    <p>\n",
    "        Below list is information of a product, change this list to dictionary and answer to questions? \n",
    "    </p>\n",
    "    <ol>\n",
    "  <li>What is the name of the product?</li>\n",
    "  <li>What is the price of the product?</li>\n",
    "  <li>What is the color of the product?</li>\n",
    "  <li>When was the product released?</li>\n",
    "  <li>Can you change the color of the product to 'Silver'?</li>\n",
    "  <li>Create a list with 4 products buy this structure.</li>\n",
    "</ol>\n",
    "</div>"
   ]
  },
  {
   "cell_type": "code",
   "execution_count": 2,
   "id": "064621d4",
   "metadata": {},
   "outputs": [
    {
     "name": "stdout",
     "output_type": "stream",
     "text": [
      "Our product with name of  Apple iphone with price 999.99 and Gray color was released in july2021\n",
      "\n",
      " new color is Silver\n",
      "new info {'name': 'Apple iphone', 'price': 999.99, 'color': 'Silver', 'releasize_date': 'july2021'}\n",
      "\n",
      "Our new products list is: [{'name': 'xiaomi', 'price': 124.0, 'color': 'red', 'Release date': '2023'}, {'name': 'sony', 'price': 1247.0, 'color': 'green', 'Release date': '2020'}, {'name': 'oneplus', 'price': 258.0, 'color': 'black', 'Release date': '2024'}, {'name': 'sumsung', 'price': 874.0, 'color': 'white', 'Release date': '2001'}]\n"
     ]
    }
   ],
   "source": [
    "product = {\n",
    "    \"name\" : \"Apple iphone\",\n",
    "    \"price\" : 999.99,\n",
    "    \"color\" : \"Gray\",\n",
    "    \"releasize_date\": \"july2021\"\n",
    "}\n",
    "\n",
    "name = product['name']\n",
    "price = product['price']\n",
    "color = product['color']\n",
    "release = product['releasize_date']\n",
    "print(f'Our product with name of  {name} with price {price} and {color} color was released in {release}')\n",
    "\n",
    "product['color'] = 'Silver'\n",
    "print(f'\\n new color is {product['color']}')\n",
    "print(f'new info {product}')\n",
    "\n",
    "pr =[]\n",
    "for i in range(4):\n",
    "    name_i = input('give us name for product:')\n",
    "    price_i= float(input('give price for product' ))\n",
    "    color_i= input('give color of product' )\n",
    "    released_i= input('give releasize date for product' )\n",
    "\n",
    "    if any(product['name'] == name_i for product in pr):\n",
    "        print(\"This product name already exists. Please enter a unique name.\")\n",
    "        continue  \n",
    "\n",
    "    else:\n",
    "        products = {\n",
    "        \"name\": name_i,\n",
    "        \"price\": price_i,\n",
    "        \"color\": color_i,\n",
    "        \"Release date\": released_i\n",
    "    }\n",
    "\n",
    "    pr.append(products)\n",
    "\n",
    "\n",
    "\n",
    "print(f'\\nOur new products list is: {pr}')\n",
    "\n",
    "\n"
   ]
  },
  {
   "cell_type": "markdown",
   "id": "5c81e750",
   "metadata": {},
   "source": [
    "<div style=\"color: black;font-family:Georgia;padding-top:18px;text-align:left;background-color:lightskyblue;border-radius:15px;border: 2px solid cornflowerblue;\">\n",
    "    <h4>Question 03 (dictionary)(100):</h4>\n",
    "    <p>\n",
    "    create a dictionary named student_grades containing three students' names as keys and their grades as values. Perform the following: \n",
    "    </p>\n",
    "    <ul>\n",
    "    <li>add two new students with their grades to student_grades, names are unique.</li>  \n",
    "    <li>Delete any students from student_grades who have grades below 10.</li>\n",
    "    <li>Get a name from the user If the user's name is in the dictionary of students, get a new grade and change the student's grade.</li> \n",
    "    <li>Show the average scores of all students.</li>\n",
    "    </ul>\n",
    "</div>"
   ]
  },
  {
   "cell_type": "code",
   "execution_count": 20,
   "id": "50e67dcd",
   "metadata": {},
   "outputs": [],
   "source": [
    "\n",
    "    \n",
    "\n",
    "#Answer is in another python file\n",
    "\n",
    "    \n",
    "    "
   ]
  },
  {
   "cell_type": "markdown",
   "id": "34326ff6",
   "metadata": {},
   "source": [
    "<div style=\"color: black;font-family:Georgia;padding-top:18px;text-align:left;background-color:lightskyblue;border-radius:15px;border: 2px solid cornflowerblue;\">\n",
    "    <h4>Question 04 (dictionary)(50):</h4>\n",
    "    <p>\n",
    "    What is the difference between the get() method and direct key access in a dictionary?\n",
    "    </p>\n",
    "</div>"
   ]
  },
  {
   "cell_type": "code",
   "execution_count": null,
   "id": "3384ea23",
   "metadata": {},
   "outputs": [],
   "source": [
    "# when we use get() and use this for directory which is not difine then for value we will recieave None but in direct key access we will take a KeyError \n",
    "# and another diffrence is get() allows specifying a default value for missing keys, while direct access does not."
   ]
  },
  {
   "cell_type": "markdown",
   "id": "f31d7edb",
   "metadata": {},
   "source": [
    "<div style=\"color: black;font-family:Georgia;padding-top:18px;text-align:left;background-color:lightskyblue;border-radius:15px;border: 2px solid cornflowerblue;\">\n",
    "    <h4>Question 05 (dictionary)(150):</h4>\n",
    "    <p>\n",
    "    Create a dictionary named employee_data where the keys are employee IDs (as strings) and the values are dictionaries containing the employee's name, age, and salary. Perform the following: \n",
    "    </p>\n",
    "    <ul>\n",
    "    <li>Add information for three new employees, making sure each ID is unique.</li>  \n",
    "    <li>Update the salary for an employee if their age is over 50, increasing it by 10%.</li>\n",
    "    <li>Remove any employee from employee_data whose salary is below 3000.</li> \n",
    "    <li>Ask the user for an employee ID. If the ID exists, update the employee's age and name as provided by the user.</li>\n",
    "    <li>Calculate and display the total salary expenditure for all employees in the dictionary.</li>\n",
    "    </ul>\n",
    "</div>"
   ]
  },
  {
   "cell_type": "code",
   "execution_count": null,
   "id": "6fb8490b",
   "metadata": {},
   "outputs": [],
   "source": []
  },
  {
   "cell_type": "markdown",
   "id": "293056e3",
   "metadata": {},
   "source": [
    "<h2 style=\"color: blue:; background-color: purple\">Good luck</h2>"
   ]
  }
 ],
 "metadata": {
  "kernelspec": {
   "display_name": "Python 3 (ipykernel)",
   "language": "python",
   "name": "python3"
  },
  "language_info": {
   "codemirror_mode": {
    "name": "ipython",
    "version": 3
   },
   "file_extension": ".py",
   "mimetype": "text/x-python",
   "name": "python",
   "nbconvert_exporter": "python",
   "pygments_lexer": "ipython3",
   "version": "3.12.4"
  }
 },
 "nbformat": 4,
 "nbformat_minor": 5
}
