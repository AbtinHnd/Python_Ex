{
 "cells": [
  {
   "cell_type": "markdown",
   "id": "ead54e1a",
   "metadata": {},
   "source": [
    "<div style=\"color: white;padding-top:18px;text-align:center;background-color:#610C9F;border-radius:15px;border: 1px solid white;\"> \n",
    "    <h3>Exercise 13 (score:300 + 50(GitHub)\n",
    "    )</h3>\n",
    "</div>"
   ]
  },
  {
   "cell_type": "markdown",
   "id": "9986a78d",
   "metadata": {},
   "source": [
    "<div style=\"color: white;padding-top:18px;text-align:left;background-color:#940B92;border-radius:15px;border: 1px solid white;\"> \n",
    "    <h4>Question 01 (OOP)(100):</h4>\n",
    "    <p>Create a class Rectangle with attributes length and width and methods area(),\n",
    "</p>\n",
    "<p>perimeter() and display()for show length and width. Test your class by creating</p>\n",
    "<p>two objects and call attributes and methods forthis objects</p>\n",
    "</div>"
   ]
  },
  {
   "cell_type": "markdown",
   "id": "23811370",
   "metadata": {},
   "source": [
    "https://github.com/AbtinHnd/Python_Ex/tree/main/Exercises"
   ]
  },
  {
   "cell_type": "code",
   "execution_count": 3,
   "id": "7710ae23",
   "metadata": {},
   "outputs": [
    {
     "name": "stdout",
     "output_type": "stream",
     "text": [
      "5\n",
      "12\n",
      "---------------------\n",
      "60\n",
      "34\n",
      "---------------------\n",
      "Width: 5\n",
      "Length: 12\n",
      "Area: 60\n",
      "Perimeter: 34\n"
     ]
    }
   ],
   "source": [
    "class Rectangle:\n",
    "    def __init__(self, length, width):\n",
    "        self.length = length\n",
    "        self.width = width\n",
    "\n",
    "    def area(self):\n",
    "        mas = (self.length * self.width)\n",
    "        return mas  \n",
    "\n",
    "    def perimeter(self):\n",
    "        perim = 2 * (self.length + self.width)\n",
    "        return perim\n",
    "\n",
    "    def display(self):\n",
    "        print(f'Width: {self.width}')\n",
    "        print(f'Length: {self.length}')\n",
    "        print(f'Area: {self.area()}')\n",
    "        print(f'Perimeter: {self.perimeter()}')\n",
    "\n",
    "\n",
    "rec1 = Rectangle(12, 5)\n",
    "print(rec1.width)\n",
    "print(rec1.length)\n",
    "print('---------------------')\n",
    "print(rec1.area())\n",
    "print(rec1.perimeter())\n",
    "print(\"---------------------\")\n",
    "rec1.display()\n",
    "\n"
   ]
  },
  {
   "cell_type": "markdown",
   "id": "488e01d2",
   "metadata": {},
   "source": [
    "<div style=\"color: white;padding-top:18px;text-align:left;background-color:#940B92;border-radius:15px;border: 1px solid white;\"> \n",
    "    <h4>Question 02 (OOP)(100)</h4>\n",
    "<p> Create a Class Calculator</p>\n",
    "<p>Methods: Should include at least add(x, y), subtract(x, y), multiply(x, y), \n",
    "and divide(x, y). Each method performs the respective operation and \n",
    "returns the result.</p>"
   ]
  },
  {
   "cell_type": "code",
   "execution_count": 1,
   "id": "0d6db2ad",
   "metadata": {},
   "outputs": [
    {
     "name": "stdout",
     "output_type": "stream",
     "text": [
      "your input numbers is: 12,8\n",
      "Result for Add :20\n",
      "Result for Sub :4\n",
      "Result for multiply: 96\n",
      "Result for Divide:1.5\n"
     ]
    }
   ],
   "source": [
    "class Calculator:\n",
    "    def __init__(self,x,y):\n",
    "        self.x = x\n",
    "        self.y = y\n",
    "    def add(self):\n",
    "        added = self.x + self.y \n",
    "        return added\n",
    "    def subtract(self):\n",
    "        sub = self.x - self.y \n",
    "        return sub\n",
    "    def multiply(self):\n",
    "        mut = self.x * self.y\n",
    "        return mut\n",
    "    def divide(self):\n",
    "        div = self.x / self.y\n",
    "        return div\n",
    "    \n",
    "first = int(input(f\"give us your first input: \"))\n",
    "sec  = int(input(f\"give us your second input: \"))\n",
    "\n",
    "print(f'your input numbers is: {first},{sec}')\n",
    "\n",
    "\n",
    "cal = Calculator(first,sec)\n",
    "print(f\"Result for Add :{cal.add()}\")\n",
    "print(f\"Result for Sub :{cal.subtract()}\")\n",
    "print(f\"Result for multiply: {cal.multiply()}\")\n",
    "print(f\"Result for Divide:{cal.divide()}\")"
   ]
  },
  {
   "cell_type": "markdown",
   "id": "021be85c",
   "metadata": {},
   "source": [
    "<div style=\"color: white;padding-top:18px;text-align:left;background-color:#940B92;border-radius:15px;border: 1px solid white;\"> \n",
    "    <h4>Question 03 (OOP)(100)</h4>\n",
    "<p><b>Class Counter</b></p>\n",
    "<p>Attribute: count, initially set to zero.</p>\n",
    "<p>Methods:</p>\n",
    " <p>increment(): Increments count by 1.</p>\n",
    " <p>decrement(): Decrements count by 1, but never below zero.</p>\n",
    " <p>reset(): Resets count to zero.</p>\n",
    " <p>get_count(): Returns the current value of count</p>\n",
    "</div>"
   ]
  },
  {
   "cell_type": "code",
   "execution_count": 2,
   "id": "32b3c29d",
   "metadata": {},
   "outputs": [
    {
     "name": "stdout",
     "output_type": "stream",
     "text": [
      "2\n",
      "-1\n",
      "0\n"
     ]
    }
   ],
   "source": [
    "count = 0\n",
    "class Counter:\n",
    "    def increment(self):\n",
    "        global count \n",
    "        count += 1\n",
    "    def decrement(self):\n",
    "        global count\n",
    "        count -= 1\n",
    "    def reset(self):\n",
    "        global count\n",
    "        count = 0\n",
    "    def get_count(self):\n",
    "        global count\n",
    "        return count\n",
    "    \n",
    "\n",
    "ct = Counter()\n",
    "ct.increment()\n",
    "ct.increment()\n",
    "print(ct.get_count())\n",
    "ct.decrement()\n",
    "ct.decrement()\n",
    "ct.decrement()\n",
    "print(ct.get_count())\n",
    "ct.reset()\n",
    "print(ct.get_count())\n"
   ]
  },
  {
   "cell_type": "markdown",
   "id": "0e2c870c",
   "metadata": {},
   "source": [
    "<div style=\"color: white;padding-top:18px;text-align:center;background-color:#610C9F;border-radius:15px;border: 1px solid white;\"> \n",
    "    <h3>Exercise 14 (score:200 + 50(GitHub)\n",
    "    )</h3>\n",
    "</div>"
   ]
  },
  {
   "cell_type": "markdown",
   "id": "98cda4ff",
   "metadata": {},
   "source": [
    "<div style=\"color: white;padding-top:18px;text-align:left;background-color:#940B92;border-radius:15px;border: 1px solid white;\"> \n",
    "    <h4>Question 01 (methods, attribute)(200)</h4>\n",
    "<p>You need to create a Python class Book with the following specifications:<p>\n",
    "<p>Each book has a id,title, year, author, price, and discount(all provided when the book is\n",
    "created).<p>\n",
    "<p>The id of each book follows a specific format:the firsttwo characters should be letters,and the lasttwo should be digits (e.g.,\"AB12\"). Ifthe ID is not valid,raise a ValueError.<p>\n",
    "<p>The class should include a method to calculate the total price ofthe book. The total price is calculated as the book’s price minus the discount.<p>\n",
    "<p>Include a method that prints how many books have been created.<p>\n",
    "<p>Implementthe __str__ method thatreturns a string representing the book’s details in\n",
    "the following format: \"Title:{title}, Author:{author}, Year:{year}, Price:{total_price}\".<p>\n",
    "\n",
    "</div>"
   ]
  },
  {
   "cell_type": "code",
   "execution_count": 22,
   "id": "e3856ce6",
   "metadata": {},
   "outputs": [
    {
     "ename": "ValueError",
     "evalue": "XYg4 is not valid ID please Give right format",
     "output_type": "error",
     "traceback": [
      "\u001b[1;31m---------------------------------------------------------------------------\u001b[0m",
      "\u001b[1;31mValueError\u001b[0m                                Traceback (most recent call last)",
      "Cell \u001b[1;32mIn[22], line 32\u001b[0m\n\u001b[0;32m     27\u001b[0m          \u001b[38;5;28;01mreturn\u001b[39;00m (\u001b[38;5;124mf\u001b[39m\u001b[38;5;124m\"\u001b[39m\u001b[38;5;124mTitle : \u001b[39m\u001b[38;5;132;01m{\u001b[39;00m\u001b[38;5;28mself\u001b[39m\u001b[38;5;241m.\u001b[39mtitle\u001b[38;5;132;01m}\u001b[39;00m\u001b[38;5;124m // Author : \u001b[39m\u001b[38;5;132;01m{\u001b[39;00m\u001b[38;5;28mself\u001b[39m\u001b[38;5;241m.\u001b[39mauthor\u001b[38;5;132;01m}\u001b[39;00m\u001b[38;5;124m // Year : \u001b[39m\u001b[38;5;132;01m{\u001b[39;00m\u001b[38;5;28mself\u001b[39m\u001b[38;5;241m.\u001b[39myear\u001b[38;5;132;01m}\u001b[39;00m\u001b[38;5;124m // Final Price : \u001b[39m\u001b[38;5;132;01m{\u001b[39;00m\u001b[38;5;28mself\u001b[39m\u001b[38;5;241m.\u001b[39mtotal_p()\u001b[38;5;132;01m}\u001b[39;00m\u001b[38;5;124m\"\u001b[39m)\n\u001b[0;32m     31\u001b[0m b1 \u001b[38;5;241m=\u001b[39m Book(\u001b[38;5;124m\"\u001b[39m\u001b[38;5;124mAB12\u001b[39m\u001b[38;5;124m\"\u001b[39m, \u001b[38;5;124m\"\u001b[39m\u001b[38;5;124mSome Book\u001b[39m\u001b[38;5;124m\"\u001b[39m, \u001b[38;5;241m2021\u001b[39m, \u001b[38;5;241m100\u001b[39m, \u001b[38;5;124m\"\u001b[39m\u001b[38;5;124mJohn Doe\u001b[39m\u001b[38;5;124m\"\u001b[39m, \u001b[38;5;241m20\u001b[39m)\n\u001b[1;32m---> 32\u001b[0m b2 \u001b[38;5;241m=\u001b[39m \u001b[43mBook\u001b[49m\u001b[43m(\u001b[49m\u001b[38;5;124;43m\"\u001b[39;49m\u001b[38;5;124;43mXYg4\u001b[39;49m\u001b[38;5;124;43m\"\u001b[39;49m\u001b[43m,\u001b[49m\u001b[43m \u001b[49m\u001b[38;5;124;43m\"\u001b[39;49m\u001b[38;5;124;43mAnother Book\u001b[39;49m\u001b[38;5;124;43m\"\u001b[39;49m\u001b[43m,\u001b[49m\u001b[43m \u001b[49m\u001b[38;5;241;43m2019\u001b[39;49m\u001b[43m,\u001b[49m\u001b[43m \u001b[49m\u001b[38;5;241;43m150\u001b[39;49m\u001b[43m,\u001b[49m\u001b[43m \u001b[49m\u001b[38;5;124;43m\"\u001b[39;49m\u001b[38;5;124;43mJane Doe\u001b[39;49m\u001b[38;5;124;43m\"\u001b[39;49m\u001b[43m,\u001b[49m\u001b[43m \u001b[49m\u001b[38;5;241;43m30\u001b[39;49m\u001b[43m)\u001b[49m\n\u001b[0;32m     34\u001b[0m b1\u001b[38;5;241m.\u001b[39mbook_count()\n\u001b[0;32m     35\u001b[0m \u001b[38;5;28mprint\u001b[39m(b1)\n",
      "Cell \u001b[1;32mIn[22], line 11\u001b[0m, in \u001b[0;36mBook.__init__\u001b[1;34m(self, id_, title, year, price, author, discount)\u001b[0m\n\u001b[0;32m      9\u001b[0m \u001b[38;5;28mself\u001b[39m\u001b[38;5;241m.\u001b[39mdiscount \u001b[38;5;241m=\u001b[39m \u001b[38;5;28mfloat\u001b[39m(discount)\n\u001b[0;32m     10\u001b[0m \u001b[38;5;28;01mif\u001b[39;00m \u001b[38;5;129;01mnot\u001b[39;00m (\u001b[38;5;28mself\u001b[39m\u001b[38;5;241m.\u001b[39mid[:\u001b[38;5;241m2\u001b[39m]\u001b[38;5;241m.\u001b[39misalpha() \u001b[38;5;129;01mand\u001b[39;00m \u001b[38;5;28mself\u001b[39m\u001b[38;5;241m.\u001b[39mid[\u001b[38;5;241m-\u001b[39m\u001b[38;5;241m2\u001b[39m:]\u001b[38;5;241m.\u001b[39misdigit()):\n\u001b[1;32m---> 11\u001b[0m         \u001b[38;5;28;01mraise\u001b[39;00m \u001b[38;5;167;01mValueError\u001b[39;00m(\u001b[38;5;124mf\u001b[39m\u001b[38;5;124m\"\u001b[39m\u001b[38;5;132;01m{\u001b[39;00m\u001b[38;5;28mself\u001b[39m\u001b[38;5;241m.\u001b[39mid\u001b[38;5;132;01m}\u001b[39;00m\u001b[38;5;124m is not valid ID please Give right format\u001b[39m\u001b[38;5;124m\"\u001b[39m)\n\u001b[0;32m     13\u001b[0m Book\u001b[38;5;241m.\u001b[39mcount \u001b[38;5;241m+\u001b[39m\u001b[38;5;241m=\u001b[39m \u001b[38;5;241m1\u001b[39m\n",
      "\u001b[1;31mValueError\u001b[0m: XYg4 is not valid ID please Give right format"
     ]
    }
   ],
   "source": [
    "class Book:\n",
    "    count = 0\n",
    "    def __init__(self,id_,title,year,price,author,discount):\n",
    "        self.id = id_\n",
    "        self.title = title\n",
    "        self.author = author\n",
    "        self.price = float(price)\n",
    "        self.year = float(year) \n",
    "        self.discount = float(discount)\n",
    "        if not (self.id[:2].isalpha() and self.id[-2:].isdigit()):\n",
    "                raise ValueError(f\"{self.id} is not valid ID please Give right format\")\n",
    "        \n",
    "        Book.count += 1\n",
    "    @classmethod\n",
    "    def total_p(self):\n",
    "         tot = float(self.price - self.discount)\n",
    "         if tot <= 0 :\n",
    "              tot = 0\n",
    "              return tot\n",
    "         else: \n",
    "            return tot\n",
    "    \n",
    "    def book_count(cls):\n",
    "         print(f\"Number of BOOks you have is {Book.count}\")\n",
    "\n",
    "    def __str__(self):\n",
    "         return (f\"Title : {self.title} // Author : {self.author} // Year : {self.year} // Final Price : {self.total_p()}\")\n",
    "               \n",
    "\n",
    "\n",
    "b1 = Book(\"AB12\", \"Some Book\", 2021, 100, \"John Doe\", 20)\n",
    "b2 = Book(\"XYg4\", \"Another Book\", 2019, 150, \"Jane Doe\", 30)\n",
    "\n",
    "b1.book_count()\n",
    "print(b1)\n",
    "print(b2)\n",
    "\n",
    "\n",
    "\n"
   ]
  },
  {
   "cell_type": "code",
   "execution_count": null,
   "id": "aa7363bd",
   "metadata": {},
   "outputs": [],
   "source": []
  }
 ],
 "metadata": {
  "kernelspec": {
   "display_name": "Python 3 (ipykernel)",
   "language": "python",
   "name": "python3"
  },
  "language_info": {
   "codemirror_mode": {
    "name": "ipython",
    "version": 3
   },
   "file_extension": ".py",
   "mimetype": "text/x-python",
   "name": "python",
   "nbconvert_exporter": "python",
   "pygments_lexer": "ipython3",
   "version": "3.12.4"
  }
 },
 "nbformat": 4,
 "nbformat_minor": 5
}
