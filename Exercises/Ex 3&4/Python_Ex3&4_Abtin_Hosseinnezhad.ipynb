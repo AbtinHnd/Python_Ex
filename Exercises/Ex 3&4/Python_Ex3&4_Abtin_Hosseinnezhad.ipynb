{
 "cells": [
  {
   "cell_type": "markdown",
   "metadata": {},
   "source": [
    "<div style=\"color: white;padding-top:18px;text-align:center;background-color:#8B008B;border-radius:15px;border: 1px solid white;\"> \n",
    "    <h3>Exercise 3 (score:350)</h3>\n",
    "</div>"
   ]
  },
  {
   "cell_type": "markdown",
   "metadata": {},
   "source": [
    "<div style=\"color: black;font-family:Georgia;padding-top:18px;text-align:left;background-color:lightskyblue;border-radius:15px;border: 2px solid cornflowerblue;\"> \n",
    "    <h4>Question 01 (String)</h4>\n",
    "    <p>Get a string from user and check length of that, if length of string was even\n",
    "show first half of string otherwise print last half of string.\n",
    "</p>\n",
    "    \n",
    "</div>"
   ]
  },
  {
   "cell_type": "code",
   "execution_count": 7,
   "metadata": {},
   "outputs": [
    {
     "name": "stdout",
     "output_type": "stream",
     "text": [
      "length of \"98989\" is: 5\n",
      "your Length is Odd and output will be: 89\n"
     ]
    }
   ],
   "source": [
    "st = input(\" give me a Sentence: \")\n",
    "length = len(st)\n",
    "half = int(length / 2 ) \n",
    "print(f'length of \"{st}\" is: {length}')\n",
    "if length % 2 == 0:\n",
    "    print(f'your Length is Even and output will be: {st[:half]}')\n",
    "else: \n",
    "    print(f'your Length is Odd and output will be: {st[half+1:]}')"
   ]
  },
  {
   "cell_type": "markdown",
   "metadata": {},
   "source": [
    "<div style=\"color: black;font-family:Georgia;padding-top:18px;text-align:left;background-color:lightskyblue;border-radius:15px;border: 1px solid cornflowerblue;\"> \n",
    "    <h4>Question 02 (String)</h4>\n",
    "<p>\n",
    "Explain the results of following codes step by step, and if there are errors, explain the reson for the error and fix it.\n",
    "</p>\n",
    "\n",
    "<ul>\n",
    "    <li>\n",
    "        Divide the text into two halves. If length of string is odd, include the middle character in the first half.\n",
    "    </li>\n",
    "    <br>\n",
    "    <li>\n",
    "        In the first half of the text, replace all occurrences of the word \"Python\" with \"Java\".\n",
    "    </li>\n",
    "    <br>\n",
    "    <li>\n",
    "       In the second half of the text, replace all occurrences of the word \"Python\" with \"C++\" \n",
    "    </li>\n",
    "    <br>\n",
    "    <li>\n",
    "        Combine both halves back into a single text and print the modified text\n",
    "    </li>\n",
    "    <br>\n",
    "    <li>\n",
    "        How many times was the word \"Python\" replaced in the first half?\n",
    "    </li>\n",
    "    <br>\n",
    "    <li>\n",
    "        How many times was the word \"Python\" replaced in the second half?\n",
    "    </li>\n",
    "</ul>\n",
    "\n",
    "<br>\n",
    "<p>Here is the text:</p>\n",
    "\n",
    "\n",
    "<p>\n",
    "    Python is a widely-used programming language known for its simplicity. Python supports various\n",
    "    programming paradigms. Python's code readability makes it a favorite among developers. Python is\n",
    "    ideal for rapidly prototyping applications.\n",
    "</p>\n",
    "\n",
    "</div>"
   ]
  },
  {
   "cell_type": "code",
   "execution_count": 31,
   "metadata": {},
   "outputs": [
    {
     "name": "stdout",
     "output_type": "stream",
     "text": [
      "122\n",
      "Original Text is: \n",
      " \"Python is a widely-used programming language known for its simplicity. Python supports various\n",
      "    programming paradigms. Python's code readability makes it a favorite among developers. Python is\n",
      "    ideal for rapidly prototyping applications.\"\n",
      " length of Text is: 243\n",
      "Our Text Length is Odd\n",
      "our first Half Text after replacing is:\n",
      " \"Java is a widely-used programming language known for its simplicity. Java supports various\n",
      "    programming paradigms. \" \n",
      " second half After replacing  will be:\n",
      " \"C++'s code readability makes it a favorite among developers. C++ is\n",
      "    ideal for rapidly prototyping applications.\"\n",
      "The Full Text after replace words is:\n",
      " \"Java is a widely-used programming language known for its simplicity. Java supports various\n",
      "    programming paradigms. C++'s code readability makes it a favorite among developers. C++ is\n",
      "    ideal for rapidly prototyping applications.\"\n",
      "\n",
      "number of replacment for Java is: 2\n",
      " number of replacment for C++ is: 2\n"
     ]
    }
   ],
   "source": [
    "text = \"\"\"Python is a widely-used programming language known for its simplicity. Python supports various\n",
    "    programming paradigms. Python's code readability makes it a favorite among developers. Python is\n",
    "    ideal for rapidly prototyping applications.\"\"\"\n",
    "length = len(text)\n",
    "half = int(length / 2 + 1)\n",
    "print(half)\n",
    "print(f'Original Text is: \\n \"{text}\"\\n length of Text is: {length}')\n",
    "if length % 2 != 0:\n",
    "    first_half = text[:half]\n",
    "    sec_half= text[half:]\n",
    "    print(\"Our Text Length is Odd\")\n",
    "else :\n",
    "    first_half = text[:half]\n",
    "    sec_half = text[ half:]\n",
    "    print(\"Our Text Length is Even\")\n",
    "\n",
    "rep1 = first_half.replace('Python','Java')\n",
    "rep2 = sec_half.replace('Python','C++')\n",
    "combine = \"\".join([rep1,rep2])\n",
    "count_java = rep1.count('Java')\n",
    "count_cpp = rep2.count('C++')\n",
    "print(f'our first Half Text after replacing is:\\n \"{rep1}\" \\n second half After replacing  will be:\\n \"{rep2}\"')\n",
    "print(f'The Full Text after replace words is:\\n \"{combine}\"\\n')\n",
    "print(f'number of replacment for Java is: {count_java}\\n number of replacment for C++ is: {count_cpp}')\n",
    "\n",
    "\n"
   ]
  },
  {
   "cell_type": "markdown",
   "metadata": {},
   "source": [
    "<div style=\"color: black;font-family:Georgia;padding-top:18px;text-align:left;background-color:lightskyblue;border-radius:15px;border: 1px solid cornflowerblue;\"> \n",
    "    <h4>Question 03 (String)</h4>\n",
    "<p>Write a program that prompts the user to enter a text. The program should then\n",
    "remove all the spaces from the entered text and display the result.</p>\n",
    "\n",
    "</div>"
   ]
  },
  {
   "cell_type": "code",
   "execution_count": 8,
   "metadata": {},
   "outputs": [
    {
     "name": "stdout",
     "output_type": "stream",
     "text": [
      "input is:\n",
      " 1 . 6 . 5 . 4 . 5 . 8 9 5 5 5 5 5 5 55 5 5 5 5 5 5 5555555555555555\n",
      " and output will be: \n",
      " 1.6.5.4.5.89555555555555555555555555555555 \n"
     ]
    }
   ],
   "source": [
    "text = input(\"give us a text in string: \")\n",
    "space = text.replace(\" \",\"\")\n",
    "print(f'input is:\\n {text}\\n and output will be: \\n {space} ')"
   ]
  },
  {
   "cell_type": "markdown",
   "metadata": {},
   "source": [
    "<div style=\"color: black;font-family:Georgia;padding-top:18px;text-align:left;background-color:lightskyblue;border-radius:15px;border: 1px solid cornflowerblue;\"> \n",
    "    <h4>Question 04 (String)</h4>\n",
    "<p>Write a program that prompts the user to enter two strings. if the second\n",
    "string is present in the first string, remove it, otherwise add the second\n",
    "string at the start and end of the first string. Display the new string in the\n",
    "output.</p>\n",
    "\n",
    "</div>"
   ]
  },
  {
   "cell_type": "code",
   "execution_count": 9,
   "metadata": {},
   "outputs": [
    {
     "name": "stdout",
     "output_type": "stream",
     "text": [
      "your first input Text is:\n",
      " 54444\n",
      " your second input Text is:\n",
      " 4\n",
      "answer is: \n",
      "5\n"
     ]
    }
   ],
   "source": [
    "text1 = str(input('Give your first Text: '))\n",
    "text2 = input(\"Give your second Text: \")\n",
    "if text2 in text1:\n",
    "    new_text = text1.replace(text2,\"\")\n",
    "else: \n",
    "    new_text = ''.join((text2,text1,text2))\n",
    "print(f'your first input Text is:\\n {text1}\\n your second input Text is:\\n {text2}')\n",
    "print(f'answer is: \\n{new_text}')"
   ]
  },
  {
   "cell_type": "markdown",
   "metadata": {},
   "source": [
    "<div style=\"color: black;font-family:Georgia;padding-top:18px;text-align:left;background-color:lightskyblue;border-radius:15px;border: 1px solid cornflowerbue;\"> \n",
    "    <h4>Question 05 (String)\n",
    "</h4>\n",
    "<p>Write a program that prompts the user to enter a password. The program\n",
    "should validate the password based on the following criteria:</p>\n",
    "\n",
    "<ul>\n",
    "    <li>The length of the password must be exactly 8 characters.</li>\n",
    "    <li>The first four characters of the password must be letters (alphabets).</li>\n",
    "    <li>The last four characters of the password must be digits (numbers).</li>\n",
    "    <li>If the password meets all the above criteria, the program should display \"Valid\".\n",
    "        Otherwise, it should display \"Invalid\".\n",
    "    </li>\n",
    "    <br>\n",
    "</ul>\n",
    "\n",
    "</div>"
   ]
  },
  {
   "cell_type": "code",
   "execution_count": 40,
   "metadata": {},
   "outputs": [
    {
     "name": "stdout",
     "output_type": "stream",
     "text": [
      "is not a 8 characters please try again and is \"Invalid\"\n"
     ]
    }
   ],
   "source": [
    "password = input('Give your Password: ')\n",
    "if len(password) == 8:\n",
    "    if password[:4].isalpha():\n",
    "        if password[4:].isdigit():\n",
    "            print(f'Your password is Valid')\n",
    "        else:\n",
    "            print(f'Your password not have condition of digit and is\"Invalid\"')\n",
    "    else:\n",
    "        print(f'Your password not have condition of alphabet and is \"Invalid\"')\n",
    "else:\n",
    "    print(f'is not a 8 characters please try again and is \"Invalid\"')"
   ]
  },
  {
   "cell_type": "code",
   "execution_count": null,
   "metadata": {},
   "outputs": [],
   "source": []
  },
  {
   "cell_type": "markdown",
   "metadata": {},
   "source": [
    "<div style=\"color: white;padding-top:18px;text-align:center;background-color:#8B008B;border-radius:15px;border: 1px solid white;\"> \n",
    "    <h3>Exercise 4 (score:300)</h3>\n",
    "</div>"
   ]
  },
  {
   "cell_type": "markdown",
   "metadata": {},
   "source": [
    "<div style=\"color: black;font-family:Georgia;padding-top:18px;text-align:left;background-color:lightskyblue;border-radius:15px;border: 1px solid cornflowerblue;\"> \n",
    "    <h4>Question 01 (Loop)</h4>\n",
    "<p>Create a program that prompts the user to input a string. The program should\n",
    "then analyze the string to determine the number of alphabetic characters\n",
    "(letters) and the number of numeric characters (digits) contained within it.\n",
    "</p>\n",
    "\n",
    "</div>"
   ]
  },
  {
   "cell_type": "code",
   "execution_count": 43,
   "metadata": {},
   "outputs": [
    {
     "name": "stdout",
     "output_type": "stream",
     "text": [
      "number of Alphabet is: 18\n",
      "number of Digit is: 7\n",
      "number of Unknown(like space and symbel,etc) is: 2 \n"
     ]
    }
   ],
   "source": [
    "text = input(\"give your string please: \")\n",
    "alphabet = 0\n",
    "digit = 0\n",
    "other = 0\n",
    "for i in text: \n",
    "    if i.isalpha():\n",
    "        alphabet +=1\n",
    "    elif i.isdigit():\n",
    "        digit += 1\n",
    "    else:\n",
    "        other += 1\n",
    "\n",
    "\n",
    "print(f'number of Alphabet is: {alphabet}')\n",
    "print(f'number of Digit is: {digit}')\n",
    "print(f'number of Unknown(space,symbel,etc) is: {other} ')"
   ]
  },
  {
   "cell_type": "markdown",
   "metadata": {},
   "source": [
    "<div style=\"color: black;font-family:Georgia;padding-top:18px;text-align:left;background-color:lightskyblue;border-radius:15px;border: 1px solid cornflowerblue;\"> \n",
    "    <h4>Question 02 (Loop)</h4>\n",
    "<p>Get five strings from the user using a loop and display each of them that has a\n",
    "length greater than 6.\n",
    "</p>\n",
    "\n",
    "</div>"
   ]
  },
  {
   "cell_type": "code",
   "execution_count": 10,
   "metadata": {},
   "outputs": [
    {
     "name": "stdout",
     "output_type": "stream",
     "text": [
      " in index of 4 we have this word:  asasasas\n",
      "number of words Bigger than 6 : 1\n"
     ]
    }
   ],
   "source": [
    "gt6 = 0\n",
    "for i in range(5):\n",
    "  text = input('give us your words: ')\n",
    "  length = len(text)\n",
    "  if length > 6:\n",
    "    print(f' in index of {i+ 1} we have this word:  {text}')\n",
    "    gt6 += 1\n",
    "  else:\n",
    "    continue\n",
    "  \n",
    "\n",
    "print(f'number of words Bigger than 6 : {gt6}')\n",
    "\n"
   ]
  },
  {
   "cell_type": "code",
   "execution_count": null,
   "metadata": {},
   "outputs": [],
   "source": []
  },
  {
   "cell_type": "markdown",
   "metadata": {},
   "source": [
    "<div style=\"color: black;font-family:Georgia;padding-top:18px;text-align:left;background-color:lightskyblue;border-radius:15px;border: 1px solid cornflowerblue;\"> \n",
    "    <h4>Question 03 (Loop)</h4>\n",
    "<p>Write a program to analyze the scores of 10 students in a class. You need to\n",
    "collect the name and score (out of 20) for each student. Based on their\n",
    "scores, you need to assign them a level as follows: \n",
    "</p>\n",
    "\n",
    "<ul>\n",
    "    <li>A+ : If the score is between 17 and 20 (inclusive)</li>\n",
    "    <li>A : If the score is between 15 and less than 17</li>\n",
    "    <li>B : If the score is between 10 and less than 15</li>\n",
    "    <li>C : If the score is less than 10</li>\n",
    "</ul>\n",
    "\n",
    "<p>\n",
    "    Your program should display the following:\n",
    "</p>\n",
    "\n",
    "<ul>\n",
    "    <li>The name, score, and level of each student.</li>\n",
    "    <li>The name and score of the student with the highest score.</li>\n",
    "    <li>The name and score of the student with the lowest score.</li>\n",
    "    <li>The average score of the class.</li>\n",
    "    <li>\n",
    "        Make sure to validate the input to ensure that the score is a positive number and less than\n",
    "        or equal to 20.\n",
    "    </li>\n",
    "</ul>\n",
    "\n",
    "</div>"
   ]
  },
  {
   "cell_type": "code",
   "execution_count": 36,
   "metadata": {},
   "outputs": [
    {
     "name": "stdout",
     "output_type": "stream",
     "text": [
      "you give us a Wrong input it can Becuase of negative number,out of limitation\n",
      "you give us a Wrong input it can Becuase of negative number,out of limitation\n",
      "Student 3 name of \"d\" has a Score of \"14.0\" and Grade of \"B\"\n",
      "Student With Highest Score is: \"d\" and score of 14.0\n",
      "Student With Lowest Score is: \"d\" and score of 14.0\n",
      "Classes average score is : 22.2\n"
     ]
    }
   ],
   "source": [
    "maximom_score = 0\n",
    "maximom_name = \"\"\n",
    "minimom_score = float('inf')\n",
    "minimom_name =\"\"\n",
    "level = \"\"\n",
    "sum = 0\n",
    "\n",
    "for i in range(10):\n",
    "    name = input(f'Studant {i +1} name: ')\n",
    "    if name == 'exit':\n",
    "        break \n",
    "    else:\n",
    "     score = float(input(f'Student {i + 1} score: ' ))\n",
    "     sum = sum + score\n",
    "  \n",
    "     if 0<= score <= 20:\n",
    "        if score >= maximom_score:\n",
    "             maximom_score= score\n",
    "             maximom_name = name\n",
    "        if score <= minimom_score:\n",
    "                minimom_score = score\n",
    "                minimom_name = name \n",
    "        if 17<= score <=20:\n",
    "            level = \"A+\"\n",
    "        elif 15<= score < 17: \n",
    "            level = \"A\"\n",
    "        elif 10<= score < 15: \n",
    "            level = \"B\"\n",
    "        else:\n",
    "            level = \"C\"\n",
    "        print(f'Student {1 +i} name of \"{name}\" has a Score of \"{score}\" and Grade of \"{level}\"')\n",
    "     else:\n",
    "        print(f\"you give us a Wrong input in {i} it can Becuase of negative number,out of limitation\")\n",
    "\n",
    "         \n",
    "\n",
    "   \n",
    " \n",
    "\n",
    " \n",
    "\n",
    "\n",
    "avg = (sum / 10)\n",
    "print(f'Student With Highest Score is: \"{maximom_name}\" and score of {maximom_score}')\n",
    "print(f'Student With Lowest Score is: \"{minimom_name}\" and score of {minimom_score}')\n",
    "print(f'Classes average score is : {avg}')\n",
    "\n",
    "   \n",
    "        \n",
    "\n"
   ]
  },
  {
   "cell_type": "code",
   "execution_count": 55,
   "metadata": {},
   "outputs": [
    {
     "name": "stdout",
     "output_type": "stream",
     "text": [
      "Student 1  with name: \"Abtin\" has a Score : 12.0 and Grade :\"B\"\n",
      "Student 2  with name: \"ali\" has a Score : 20.0 and Grade :\"A+\"\n",
      "Student 3  with name: \"meysam\" has a Score : 13.0 and Grade :\"B\"\n",
      "Student 4  with name: \"armin \" has a Score : 10.0 and Grade :\"B\"\n",
      "Student 5  with name: \"mina \" has a Score : 8.0 and Grade :\"C\"\n",
      "Student 6  with name: \"sevda \" has a Score : 17.0 and Grade :\"A+\"\n",
      "Student 7  with name: \"yosef\" has a Score : 16.0 and Grade :\"A\"\n",
      "Student 8  with name: \"pouya\" has a Score : 2.0 and Grade :\"C\"\n",
      "Student 9  with name: \"aryan\" has a Score : 17.0 and Grade :\"A+\"\n",
      "Student 10  with name: \"ilya\" has a Score : 9.5 and Grade :\"C\"\n",
      "Student With Highest Score is: \"ali\" with 20.0 Score \n",
      "Student With Lowest Score is: \"pouya\" with 2.0 Score\n",
      "Classes average score is : 13.83\n"
     ]
    }
   ],
   "source": [
    "maximom_score = 0\n",
    "maximom_name = \"\"\n",
    "minimom_score = float('inf')\n",
    "minimom_name =\"\"\n",
    "level = \"\"\n",
    "sum = 0\n",
    "count =0\n",
    "\n",
    "for i in range(10):\n",
    "    name = input(f'Studant {i +1} name: ')\n",
    "    if name.lower() == 'exit':\n",
    "        break \n",
    "    else:\n",
    "        for j in range(10):\n",
    "            \n",
    "             score = input(f'Student {i + 1} score: ' )\n",
    "             if score.isalpha():\n",
    "                 print(f'!! Give us a Number')\n",
    "                 continue\n",
    "             else:\n",
    "                 score = float(score)\n",
    "                 if score > 20 or score < 0: \n",
    "                  print(f' !! give Us a Number Between 0 - 20 ')\n",
    "                  continue\n",
    "                 else:\n",
    "                  break\n",
    "    sum += score\n",
    "    count += 1\n",
    " \n",
    "  \n",
    "    if 0<= score <= 20:\n",
    "        if score >= maximom_score:\n",
    "             maximom_score= score\n",
    "             maximom_name = name\n",
    "        if score <= minimom_score:\n",
    "                minimom_score = score\n",
    "                minimom_name = name \n",
    "        if 17<= score <=20:\n",
    "            level = \"A+\"\n",
    "        elif 15<= score < 17: \n",
    "            level = \"A\"\n",
    "        elif 10<= score < 15: \n",
    "            level = \"B\"\n",
    "        else:\n",
    "            level = \"C\"\n",
    "        print(f'Student {1 +i}  with name: \"{name}\" has a Score : {score} and Grade :\"{level}\"')\n",
    "\n",
    "if count > 0:\n",
    "    avg = float(sum / i)\n",
    "    print(f'Student With Highest Score is: \"{maximom_name}\" with {maximom_score} Score ')\n",
    "    print(f'Student With Lowest Score is: \"{minimom_name}\" with {minimom_score} Score')\n",
    "    print(f'Classes average score is : {avg:.2f}')\n",
    "else:\n",
    "    print('You Give me nothing')\n"
   ]
  },
  {
   "cell_type": "markdown",
   "metadata": {},
   "source": [
    "<div style=\"color: black;font-family:Georgia;padding-top:18px;text-align:left;background-color:lightskyblue;border-radius:15px;border: 1px solid cornflowerblue;\"> \n",
    "    <h4>Question 04 (Loop)\n",
    "</h4>\n",
    "<p>\n",
    "Write a Python program to iterate through the numbers 1 to 10. For each\n",
    "number, if it is odd, multiply it by 5 and if it is even, add 5 to it. Display each\n",
    "operation as it is performed, and at the end, show the sum of the numbers\n",
    "obtained from the even numbers and the product of the numbers obtained from\n",
    "the odd numbers. Your output should follow the format shown below:\n",
    "\n",
    "</p>\n",
    "<ul>\n",
    "    <li>1 * 5 = 5</li>\n",
    "    <li>2 + 5 = 7</li>\n",
    "    <li>3 * 5 = 15</li>\n",
    "    <li>4 + 5 = 9</li>\n",
    "    <li>5 * 5 = 25</li>\n",
    "    <li>6 + 5 = 11</li>\n",
    "    <li>7 * 5 = 35</li>\n",
    "    <li>8 + 5 = 13</li>\n",
    "    <li>9 * 5 = 45</li>\n",
    "    <li>10 + 5 = 15</li>\n",
    "</ul>\n",
    "\n",
    "</div>"
   ]
  },
  {
   "cell_type": "code",
   "execution_count": 15,
   "metadata": {},
   "outputs": [
    {
     "name": "stdout",
     "output_type": "stream",
     "text": [
      "• 1 * 5 = 5\n",
      "• 2 + 5 = 7\n",
      "• 3 * 5 = 15\n",
      "• 4 + 5 = 9\n",
      "• 5 * 5 = 25\n",
      "• 6 + 5 = 11\n",
      "• 7 * 5 = 35\n",
      "• 8 + 5 = 13\n",
      "• 9 * 5 = 45\n",
      "• 10 + 5 = 15\n"
     ]
    }
   ],
   "source": [
    "sum = 0\n",
    "mult = 1\n",
    "for i in range(1,11):\n",
    "    if i % 2 == 0:\n",
    "        sum = i + 5\n",
    "        print(f'• {i} + 5 = {sum}')\n",
    "    else:\n",
    "        mult = i * 5\n",
    "        print(f'• {i} * 5 = {mult}')\n",
    "        \n"
   ]
  },
  {
   "cell_type": "markdown",
   "metadata": {},
   "source": []
  },
  {
   "cell_type": "markdown",
   "metadata": {},
   "source": [
    "<h2 style=\"color: blue:; background-color: purple\">Good luck</h2>"
   ]
  }
 ],
 "metadata": {
  "kernelspec": {
   "display_name": "Python 3",
   "language": "python",
   "name": "python3"
  },
  "language_info": {
   "codemirror_mode": {
    "name": "ipython",
    "version": 3
   },
   "file_extension": ".py",
   "mimetype": "text/x-python",
   "name": "python",
   "nbconvert_exporter": "python",
   "pygments_lexer": "ipython3",
   "version": "3.12.4"
  }
 },
 "nbformat": 4,
 "nbformat_minor": 2
}
