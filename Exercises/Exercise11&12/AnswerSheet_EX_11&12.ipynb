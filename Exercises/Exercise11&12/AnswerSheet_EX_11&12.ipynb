{
 "cells": [
  {
   "cell_type": "markdown",
   "id": "fb7a8054",
   "metadata": {},
   "source": [
    "<div style=\"color: white;padding-top:18px;text-align:center;background-color:#8B008B;border-radius:15px;border: 1px solid white;\"> \n",
    "    <h3>Exercise 11 (score:300 + 50)</h3>\n",
    "</div>"
   ]
  },
  {
   "cell_type": "markdown",
   "id": "bd5458df",
   "metadata": {},
   "source": [
    "<div style=\"color: black;font-family:Georgia;padding-top:18px;text-align:left;background-color:lightskyblue;border-radius:15px;border: 2px solid cornflowerblue;\">\n",
    "    <h4>Question 01 (Tuple)(100):</h4>\n",
    "    <p>\n",
    "        Create a Python program with below details:\n",
    "        </p>\n",
    "<li>Input a count of students.</li> \n",
    "<li>Collect each student's unique ID, name, and score into tuples.</li>\n",
    "<li>Store these tuples in a list.</li>\n",
    "<li>Input a name to search the list.</li> \n",
    "<li>Display the matching student's details, if found..</li>\n",
    "    \n",
    "</div>"
   ]
  },
  {
   "cell_type": "code",
   "execution_count": 29,
   "id": "99937553-2a26-4787-b365-d46f41243c5e",
   "metadata": {},
   "outputs": [
    {
     "name": "stdout",
     "output_type": "stream",
     "text": [
      "please choose one of this option: \n",
      "1.Display details of information\n",
      "2. find student with name \n",
      "\n",
      "1 ==> ID : 1424 , Name : aaa , Score : 12\n",
      "please choose one of this option: \n",
      "1.Display details of information\n",
      "2. find student with name \n",
      "\n",
      "the student \"aaa\" have this information: \t ID : 1424 .. Name : aaa .. Score : 12 \n",
      "\n",
      "please choose one of this option: \n",
      "1.Display details of information\n",
      "2. find student with name \n",
      "\n",
      "our job is Done! \n",
      "\n"
     ]
    }
   ],
   "source": [
    "x = int(input('Can you give the number of students: '))\n",
    "stu = []\n",
    "\n",
    "for i in range(x):\n",
    "    while True:  \n",
    "        id = input(\"Give student ID: \")\n",
    "        if any(s[0] == id for s in stu):\n",
    "            print(\"ID already exists! enter unique ID.\")\n",
    "        else:\n",
    "            break \n",
    "    name = input('Give name of student: ')\n",
    "    while True:\n",
    "        score = int(input('Give score that student earned: '))\n",
    "        if 0 <= score <= 20:\n",
    "            break\n",
    "        else:\n",
    "            print(f'Score should be between 0-20!!')\n",
    "\n",
    "    stu.append((id, name, score))\n",
    "\n",
    "\n",
    "\n",
    "for d in range(4):\n",
    "    print('please choose one of this option: ')\n",
    "    print('1.Display details of information')\n",
    "    print(f'2. find student with name ')\n",
    "    print(f'3.Exit \\n')\n",
    "    choose = input()\n",
    "    choose = choose.lower()\n",
    "    if choose == '1' :\n",
    "        for i,v in enumerate (stu):\n",
    "            print(f'{i + 1} ==> ID : {v[0]} , Name : {v[1]} , Score : {v[2]}')\n",
    "    elif choose == '2': \n",
    "        check = input('give name of student that you want: ')\n",
    "        for c,w in enumerate (stu):\n",
    "            if w[1] == check:\n",
    "                print(f'the student \"{check}\" have this information: \\t ID : {w[0]} .. Name : {w[1]} .. Score : {w[2]} \\n')\n",
    "    elif choose == 'exit' or choose =='3':\n",
    "        print(f'our job is Done! \\n')\n",
    "        print(stu)\n",
    "        break\n",
    "    else:\n",
    "        print('not valid choose ')\n",
    "\n",
    "\n",
    " \n"
   ]
  },
  {
   "cell_type": "markdown",
   "id": "014bb5de",
   "metadata": {},
   "source": [
    "<div style=\"color: black;font-family:Georgia;padding-top:18px;text-align:left;background-color:lightskyblue;border-radius:15px;border: 2px solid cornflowerblue;\">\n",
    "    <h4>Question 02 (set)(100):</h4>\n",
    "    <p>\n",
    "    Given two lists: list1 = [1, 2, 3, 4, 5, 6, 6, 7] and list2 = [5, 6, 7, 8, 9], write a \n",
    "program to create a list that contains only the unique elements from \n",
    "both list1 and list2. (using set)\n",
    "</p>\n",
    "</div>"
   ]
  },
  {
   "cell_type": "code",
   "execution_count": 7,
   "id": "49ba7c47",
   "metadata": {},
   "outputs": [
    {
     "name": "stdout",
     "output_type": "stream",
     "text": [
      "Unique number of this two list is  : {1, 2, 3, 4, 5, 6, 7, 8, 9}\n"
     ]
    }
   ],
   "source": [
    "l1 = [1,2,3,4,5,6,6,7]\n",
    "l2 = [5,6,7,8,9]\n",
    "l1 = set(l1)\n",
    "l2 = set(l2)\n",
    "set_final = l1\n",
    "set_final.update(l2)\n",
    "print(f'Unique number of this two list is  : {set_final}')"
   ]
  },
  {
   "cell_type": "markdown",
   "id": "5c81e750",
   "metadata": {},
   "source": [
    "<div style=\"color: black;font-family:Georgia;padding-top:18px;text-align:left;background-color:lightskyblue;border-radius:15px;border: 2px solid cornflowerblue;\">\n",
    "    <h4>Question 03 (Set)(100):</h4>\n",
    "    <p>\n",
    "    Given a list items containing strings (filenames with extensions) and \n",
    "integers, write a Python program to extract and display the unique file \n",
    "extensions from the filenames in the list. Non-string items should be \n",
    "ignored.\n",
    "</p>\n",
    "</div>"
   ]
  },
  {
   "cell_type": "code",
   "execution_count": 15,
   "id": "50e67dcd",
   "metadata": {},
   "outputs": [
    {
     "name": "stdout",
     "output_type": "stream",
     "text": [
      "{'pdf', 'ipyton'}\n"
     ]
    }
   ],
   "source": [
    "u_extension = set()\n",
    "for i in range(100):\n",
    "    l = str(input('Give your File names (if you finish write \"EXIT\"): '))\n",
    "    l = l.lower()\n",
    "    if l == \"exit\":\n",
    "        break \n",
    "    else: \n",
    "        if \".\" in l:\n",
    "            extension = l.split(\".\")[-1]\n",
    "            if extension not in u_extension :\n",
    "                u_extension.add(extension)\n",
    "            else:\n",
    "                continue\n",
    "        else:\n",
    "            continue\n",
    "print(u_extension)\n",
    "        \n"
   ]
  },
  {
   "cell_type": "markdown",
   "id": "d05c947f",
   "metadata": {},
   "source": [
    "<div style=\"color: white;padding-top:18px;text-align:center;background-color:#8B008B;border-radius:15px;border: 1px solid white;\"> \n",
    "    <h3>Exercise 12 (score:300 + 50)</h3>\n",
    "</div>"
   ]
  },
  {
   "cell_type": "markdown",
   "id": "34326ff6",
   "metadata": {},
   "source": [
    "<div style=\"color: black;font-family:Georgia;padding-top:18px;text-align:left;background-color:lightskyblue;border-radius:15px;border: 2px solid cornflowerblue;\">\n",
    "    <h4>Question 01 (Copy)(100):</h4>\n",
    "    <p>\n",
    "     Given dictionary books with book titles and their authors, perform the following:\n",
    "    </p>\n",
    "    <p>books = { \"Book1\":{\"title\": \"Learn Python\",\"authors\":[\"Author A\",\"Author B\"]},\"Book2\":{\"title\": \"AI Basics\",\"authors\":[\"Author C\"]}}</p>\n",
    "    <li>Shallow Copy Experiment:</li>\n",
    "<li>Make a shallow copy of books.</li>\n",
    "<li>Add \"Author D\" to \"Book1\" in this copy.</li>\n",
    "<li>Compare changes in the original dictionary.</li>\n",
    "<p>Deep Copy Experiment: •Create a deep copy of books.</p>\n",
    "<li>Add \"Author E\" to \"Book1\" in the deep copy.</li>\n",
    "<li>Discuss differences observed between the shallow and deep copy results.</li>\n",
    "</div>"
   ]
  },
  {
   "cell_type": "code",
   "execution_count": 6,
   "id": "2dc85e7c",
   "metadata": {},
   "outputs": [
    {
     "name": "stdout",
     "output_type": "stream",
     "text": [
      "False\n",
      "{'Book1': {'title': 'Learn Python', 'authors': ['Author A', 'Author B', 'Author D']}, 'Book2': {'title': 'AI Basics', 'authors': ['Author C']}}\n",
      "{'Book1': {'title': 'Learn Python', 'authors': ['Author A', 'Author B', 'Author D']}, 'Book2': {'title': 'AI Basics', 'authors': ['Author C']}}\n",
      "we can see that in shallow copy when we change something this will changed in copy too\n"
     ]
    }
   ],
   "source": [
    "books = { \"Book1\":{\"title\": \"Learn Python\",\"authors\":[\"Author A\",\"Author B\"]},\"Book2\":{\"title\": \"AI Basics\",\"authors\":[\"Author C\"]}}\n",
    "book_shallow = books.copy()\n",
    "print(books is book_shallow)\n",
    "\n",
    "book_shallow['Book1']['authors'].append(\"Author D\")\n",
    "print(books)\n",
    "print(book_shallow)\n",
    "print(f'we can see that in shallow copy when we change something this will changed in copy too')"
   ]
  },
  {
   "cell_type": "code",
   "execution_count": 9,
   "id": "94f4402b",
   "metadata": {},
   "outputs": [
    {
     "name": "stdout",
     "output_type": "stream",
     "text": [
      "{'Book1': {'title': 'Learn Python', 'authors': ['Author A', 'Author B']}, 'Book2': {'title': 'AI Basics', 'authors': ['Author C']}}\n",
      "{'Book1': {'title': 'Learn Python', 'authors': ['Author A', 'Author B', 'Author E']}, 'Book2': {'title': 'AI Basics', 'authors': ['Author C']}}\n",
      "we can see in deep copy that when we change copy doesn't change anythong in original data\n"
     ]
    }
   ],
   "source": [
    "import copy\n",
    "books = { \"Book1\":{\"title\": \"Learn Python\",\"authors\":[\"Author A\",\"Author B\"]},\"Book2\":{\"title\": \"AI Basics\",\"authors\":[\"Author C\"]}}\n",
    "book_deep = copy.deepcopy(books)\n",
    "\n",
    "book_deep['Book1']['authors'].append(\"Author E\")\n",
    "print(books)\n",
    "print(book_deep)\n",
    "print(f\"we can see in deep copy that when we change copy doesn't change anythong in original data\")"
   ]
  },
  {
   "cell_type": "markdown",
   "id": "bf88bee7",
   "metadata": {},
   "source": [
    "<div style=\"color: black;font-family:Georgia;padding-top:18px;text-align:left;background-color:lightskyblue;border-radius:15px;border: 2px solid cornflowerblue;\">\n",
    "    <h4>Question 02 (ErrorHandling)(100):</h4>\n",
    "    <p>\n",
    "    Which type of error can’t handle by “Try, Except”? Give an example\n",
    "</p>\n",
    "</div>"
   ]
  },
  {
   "cell_type": "code",
   "execution_count": 10,
   "id": "906e0f5b",
   "metadata": {},
   "outputs": [
    {
     "ename": "SyntaxError",
     "evalue": "incomplete input (4085441896.py, line 2)",
     "output_type": "error",
     "traceback": [
      "\u001b[1;36m  Cell \u001b[1;32mIn[10], line 2\u001b[1;36m\u001b[0m\n\u001b[1;33m    print('hello world'\u001b[0m\n\u001b[1;37m                       ^\u001b[0m\n\u001b[1;31mSyntaxError\u001b[0m\u001b[1;31m:\u001b[0m incomplete input\n"
     ]
    }
   ],
   "source": [
    "# IT will be SyntaxError here is an example:\n",
    "print('hello world'"
   ]
  },
  {
   "cell_type": "markdown",
   "id": "f31d7edb",
   "metadata": {},
   "source": [
    "<div style=\"color: black;font-family:Georgia;padding-top:18px;text-align:left;background-color:lightskyblue;border-radius:15px;border: 2px solid cornflowerblue;\">\n",
    "    <h4>Question 03 (Part1)(ErrorHandling)(100):</h4>\n",
    "    <p>\n",
    "   Manage the errors of the following codes \n",
    "    </p>\n",
    "    <p>sum = 8</p>  \n",
    "    <p>numbers = [10, 12, 13]</p>\n",
    "    <p>res = sum(numbers)</p> \n",
    "    <p>print(res)</p>\n",
    "</div>"
   ]
  },
  {
   "cell_type": "code",
   "execution_count": 12,
   "id": "c062e680",
   "metadata": {},
   "outputs": [
    {
     "name": "stdout",
     "output_type": "stream",
     "text": [
      "you have an error in summrize please write it better \n"
     ]
    }
   ],
   "source": [
    "sum = 8\n",
    "numbers = [10,12,13]\n",
    "try:\n",
    "    res = sum(numbers)\n",
    "    print(res)\n",
    "except TypeError as e:\n",
    "    print(f'you have an error in summrize please write it better ')"
   ]
  },
  {
   "cell_type": "markdown",
   "id": "2a90c5f6",
   "metadata": {},
   "source": [
    "<div style=\"color: black;font-family:Georgia;padding-top:18px;text-align:left;background-color:lightskyblue;border-radius:15px;border: 2px solid cornflowerblue;\">\n",
    "    <h4>Question 03 (Part2)(ErrorHandling)(100):</h4>\n",
    "    <p>\n",
    "   Manage the errors of the following codes \n",
    "    </p>\n",
    "    <p>numbers = [2, 3, 10, 23]</p>  \n",
    "    <p>numbers.remove(300)</p>\n",
    "    <p>print(numbers[8])</p> \n",
    "</div>"
   ]
  },
  {
   "cell_type": "code",
   "execution_count": 28,
   "id": "965392e2",
   "metadata": {},
   "outputs": [
    {
     "name": "stdout",
     "output_type": "stream",
     "text": [
      "You want to remove something that does not exists in list\n",
      "you want to print a some index that is not define yet\n"
     ]
    }
   ],
   "source": [
    "numbers = [2,3,10,23]\n",
    "try:\n",
    "    numbers.remove(300)\n",
    "    print(numbers[8])\n",
    "except ValueError as e:\n",
    "    print(f'You want to remove something that does not exists in list')\n",
    "try:\n",
    "    print(numbers[8])\n",
    "except IndexError as ee:\n",
    "    print(f\"you want to print a some index that is not define yet\")\n"
   ]
  },
  {
   "cell_type": "markdown",
   "id": "293056e3",
   "metadata": {},
   "source": [
    "<h2 style=\"color: blue:; background-color: purple\">Don't give up on your dreams :)</h2>"
   ]
  }
 ],
 "metadata": {
  "kernelspec": {
   "display_name": "Python 3 (ipykernel)",
   "language": "python",
   "name": "python3"
  },
  "language_info": {
   "codemirror_mode": {
    "name": "ipython",
    "version": 3
   },
   "file_extension": ".py",
   "mimetype": "text/x-python",
   "name": "python",
   "nbconvert_exporter": "python",
   "pygments_lexer": "ipython3",
   "version": "3.12.4"
  }
 },
 "nbformat": 4,
 "nbformat_minor": 5
}
