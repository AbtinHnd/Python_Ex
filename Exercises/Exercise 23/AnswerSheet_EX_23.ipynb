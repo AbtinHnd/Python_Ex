{
 "cells": [
  {
   "cell_type": "markdown",
   "id": "fb7a8054",
   "metadata": {},
   "source": [
    "<div style=\"color: white;padding-top:18px;text-align:center;background-color:#8B008B;border-radius:15px;border: 1px solid white;\"> \n",
    "    <h3>Exercise 23 (score:200 + 100)</h3>\n",
    "</div>"
   ]
  },
  {
   "cell_type": "markdown",
   "id": "9adb41dd",
   "metadata": {},
   "source": []
  },
  {
   "cell_type": "markdown",
   "id": "bd5458df",
   "metadata": {},
   "source": [
    "<div style=\"color: black;font-family:Georgia;padding-top:18px;text-align:left;background-color:lightskyblue;border-radius:15px;border: 2px solid cornflowerblue;\">\n",
    "    <h4>Question 01 (Encapsulation)(150):</h4>\n",
    "    <p>Using the iTunes Search API, create an object-oriented Python application to interact with it.</p> \n",
    "<li>Allow the userto search for music by entering the name ofthe song.</li>\n",
    "<li>Display the search results in a clear and user-friendly format, including details such as track\n",
    "name, artist name, album name, and a link to listen to the track on iTunes.</li>\n",
    "\n",
    "\n",
    "<ul>The iTunes Search API is open and does notrequire authentication or APItokens for basic\n",
    "functionality</ul>\n",
    "<ul>url = f\"https://itunes.apple.com/search?term={track_name}&media=music\"</ul>\n",
    "    \n",
    "</div>"
   ]
  },
  {
   "cell_type": "code",
   "execution_count": 29,
   "id": "99937553-2a26-4787-b365-d46f41243c5e",
   "metadata": {},
   "outputs": [
    {
     "name": "stdout",
     "output_type": "stream",
     "text": [
      "ok\n",
      "{'resultCount': 17, 'results': [{'wrapperType': 'track', 'kind': 'song', 'artistId': 934494001, 'collectionId': 934490744, 'trackId': 934494000, 'artistName': 'TRACKNAME', 'collectionName': 'De Kist Van Pierlala', 'trackName': 'In het stille klooster', 'collectionCensoredName': 'De Kist Van Pierlala', 'trackCensoredName': 'In het stille klooster', 'collectionArtistId': 36270, 'collectionArtistName': 'Various Artists', 'artistViewUrl': 'https://music.apple.com/us/artist/trackname/934494001?uo=4', 'collectionViewUrl': 'https://music.apple.com/us/album/in-het-stille-klooster/934490744?i=934494000&uo=4', 'trackViewUrl': 'https://music.apple.com/us/album/in-het-stille-klooster/934490744?i=934494000&uo=4', 'previewUrl': 'https://audio-ssl.itunes.apple.com/itunes-assets/Music3/v4/79/00/c8/7900c8c4-d3e8-e4e1-52de-ab0fbccce4d3/mzaf_84156905382973901.plus.aac.p.m4a', 'artworkUrl30': 'https://is1-ssl.mzstatic.com/image/thumb/Music1/v4/19/de/90/19de90e4-3509-1473-8fd5-faa308bbf8f3/8711525605701.jpg/30x30bb.jpg', 'artworkUrl60': 'https://is1-ssl.mzstatic.com/image/thumb/Music1/v4/19/de/90/19de90e4-3509-1473-8fd5-faa308bbf8f3/8711525605701.jpg/60x60bb.jpg', 'artworkUrl100': 'https://is1-ssl.mzstatic.com/image/thumb/Music1/v4/19/de/90/19de90e4-3509-1473-8fd5-faa308bbf8f3/8711525605701.jpg/100x100bb.jpg', 'collectionPrice': 10.99, 'trackPrice': 1.29, 'releaseDate': '2004-01-01T12:00:00Z', 'collectionExplicitness': 'notExplicit', 'trackExplicitness': 'notExplicit', 'discCount': 1, 'discNumber': 1, 'trackCount': 24, 'trackNumber': 10, 'trackTimeMillis': 230680, 'country': 'USA', 'currency': 'USD', 'primaryGenreName': 'Classical', 'isStreamable': True}, {'wrapperType': 'track', 'kind': 'song', 'artistId': 1729684371, 'collectionId': 1732818491, 'trackId': 1732818492, 'artistName': 'Mllx.Kaz', 'collectionName': 'TrackName - Single', 'trackName': 'TrackName', 'collectionCensoredName': 'TrackName - Single', 'trackCensoredName': 'TrackName', 'artistViewUrl': 'https://music.apple.com/us/artist/mllx-kaz/1729684371?uo=4', 'collectionViewUrl': 'https://music.apple.com/us/album/trackname/1732818491?i=1732818492&uo=4', 'trackViewUrl': 'https://music.apple.com/us/album/trackname/1732818491?i=1732818492&uo=4', 'previewUrl': 'https://audio-ssl.itunes.apple.com/itunes-assets/AudioPreview122/v4/ff/86/09/ff8609f8-52bb-d675-9460-2cc208a4c369/mzaf_14826200023527015574.plus.aac.p.m4a', 'artworkUrl30': 'https://is1-ssl.mzstatic.com/image/thumb/Music122/v4/f8/10/45/f8104559-e0b1-4f8b-88e7-ffc3b1f1685e/artwork.jpg/30x30bb.jpg', 'artworkUrl60': 'https://is1-ssl.mzstatic.com/image/thumb/Music122/v4/f8/10/45/f8104559-e0b1-4f8b-88e7-ffc3b1f1685e/artwork.jpg/60x60bb.jpg', 'artworkUrl100': 'https://is1-ssl.mzstatic.com/image/thumb/Music122/v4/f8/10/45/f8104559-e0b1-4f8b-88e7-ffc3b1f1685e/artwork.jpg/100x100bb.jpg', 'collectionPrice': 0.99, 'trackPrice': 0.99, 'releaseDate': '2024-02-23T12:00:00Z', 'collectionExplicitness': 'notExplicit', 'trackExplicitness': 'notExplicit', 'discCount': 1, 'discNumber': 1, 'trackCount': 1, 'trackNumber': 1, 'trackTimeMillis': 64016, 'country': 'USA', 'currency': 'USD', 'primaryGenreName': 'Hip-Hop/Rap', 'isStreamable': True}, {'wrapperType': 'track', 'kind': 'song', 'artistId': 1580696539, 'collectionId': 1728744855, 'trackId': 1728745077, 'artistName': 'ARCHEZ', 'collectionName': 'TRACKNAME - Single', 'trackName': 'TRACKNAME', 'collectionCensoredName': 'TRACKNAME - Single', 'trackCensoredName': 'TRACKNAME', 'artistViewUrl': 'https://music.apple.com/us/artist/archez/1580696539?uo=4', 'collectionViewUrl': 'https://music.apple.com/us/album/trackname/1728744855?i=1728745077&uo=4', 'trackViewUrl': 'https://music.apple.com/us/album/trackname/1728744855?i=1728745077&uo=4', 'previewUrl': 'https://audio-ssl.itunes.apple.com/itunes-assets/AudioPreview116/v4/ce/53/a8/ce53a8ec-bbb9-4f5c-5aca-0902fa7e2fa5/mzaf_2181487132160859368.plus.aac.p.m4a', 'artworkUrl30': 'https://is1-ssl.mzstatic.com/image/thumb/Music126/v4/8e/ce/c8/8ecec850-7510-1447-652c-a53d9ae066ea/198391063039.jpg/30x30bb.jpg', 'artworkUrl60': 'https://is1-ssl.mzstatic.com/image/thumb/Music126/v4/8e/ce/c8/8ecec850-7510-1447-652c-a53d9ae066ea/198391063039.jpg/60x60bb.jpg', 'artworkUrl100': 'https://is1-ssl.mzstatic.com/image/thumb/Music126/v4/8e/ce/c8/8ecec850-7510-1447-652c-a53d9ae066ea/198391063039.jpg/100x100bb.jpg', 'collectionPrice': 0.99, 'trackPrice': 0.99, 'releaseDate': '2024-02-02T12:00:00Z', 'collectionExplicitness': 'notExplicit', 'trackExplicitness': 'notExplicit', 'discCount': 1, 'discNumber': 1, 'trackCount': 1, 'trackNumber': 1, 'trackTimeMillis': 103885, 'country': 'USA', 'currency': 'USD', 'primaryGenreName': 'Electronic', 'isStreamable': True}, {'wrapperType': 'track', 'kind': 'song', 'artistId': 1631812509, 'collectionId': 1631812507, 'trackId': 1631812510, 'artistName': 'Bandido Fogeto', 'collectionName': 'Trackname - Single', 'trackName': 'Trackname', 'collectionCensoredName': 'Trackname - Single', 'trackCensoredName': 'Trackname', 'artistViewUrl': 'https://music.apple.com/us/artist/bandido-fogeto/1631812509?uo=4', 'collectionViewUrl': 'https://music.apple.com/us/album/trackname/1631812507?i=1631812510&uo=4', 'trackViewUrl': 'https://music.apple.com/us/album/trackname/1631812507?i=1631812510&uo=4', 'previewUrl': 'https://audio-ssl.itunes.apple.com/itunes-assets/AudioPreview122/v4/fa/a9/51/faa95187-b2b9-2dda-c95f-b195b39e0b49/mzaf_1324317286060043510.plus.aac.p.m4a', 'artworkUrl30': 'https://is1-ssl.mzstatic.com/image/thumb/Music122/v4/9c/ea/67/9cea6724-93c0-295a-6c56-547c25c3e65c/60666.jpg/30x30bb.jpg', 'artworkUrl60': 'https://is1-ssl.mzstatic.com/image/thumb/Music122/v4/9c/ea/67/9cea6724-93c0-295a-6c56-547c25c3e65c/60666.jpg/60x60bb.jpg', 'artworkUrl100': 'https://is1-ssl.mzstatic.com/image/thumb/Music122/v4/9c/ea/67/9cea6724-93c0-295a-6c56-547c25c3e65c/60666.jpg/100x100bb.jpg', 'collectionPrice': 1.29, 'trackPrice': 1.29, 'releaseDate': '2022-06-25T12:00:00Z', 'collectionExplicitness': 'notExplicit', 'trackExplicitness': 'notExplicit', 'discCount': 1, 'discNumber': 1, 'trackCount': 1, 'trackNumber': 1, 'trackTimeMillis': 161238, 'country': 'USA', 'currency': 'USD', 'primaryGenreName': 'Electronic', 'isStreamable': True}, {'wrapperType': 'track', 'kind': 'song', 'artistId': 1579219146, 'collectionId': 1635003097, 'trackId': 1635003098, 'artistName': 'BrynGardiner', 'collectionName': 'TRACKNAME (phonk version) - Single', 'trackName': 'TRACKNAME (phonk version)', 'collectionCensoredName': 'TRACKNAME (phonk version) - Single', 'trackCensoredName': 'TRACKNAME (phonk version)', 'artistViewUrl': 'https://music.apple.com/us/artist/bryngardiner/1579219146?uo=4', 'collectionViewUrl': 'https://music.apple.com/us/album/trackname-phonk-version/1635003097?i=1635003098&uo=4', 'trackViewUrl': 'https://music.apple.com/us/album/trackname-phonk-version/1635003097?i=1635003098&uo=4', 'previewUrl': 'https://audio-ssl.itunes.apple.com/itunes-assets/AudioPreview122/v4/44/14/9c/44149cf8-22bf-7dfd-c9a6-a8df49ee839f/mzaf_13768867385022402531.plus.aac.p.m4a', 'artworkUrl30': 'https://is1-ssl.mzstatic.com/image/thumb/Music122/v4/85/8d/bc/858dbcc9-62f2-8285-9388-50d3c5ed66aa/artwork.jpg/30x30bb.jpg', 'artworkUrl60': 'https://is1-ssl.mzstatic.com/image/thumb/Music122/v4/85/8d/bc/858dbcc9-62f2-8285-9388-50d3c5ed66aa/artwork.jpg/60x60bb.jpg', 'artworkUrl100': 'https://is1-ssl.mzstatic.com/image/thumb/Music122/v4/85/8d/bc/858dbcc9-62f2-8285-9388-50d3c5ed66aa/artwork.jpg/100x100bb.jpg', 'collectionPrice': 0.99, 'trackPrice': 0.99, 'releaseDate': '2022-07-17T12:00:00Z', 'collectionExplicitness': 'notExplicit', 'trackExplicitness': 'notExplicit', 'discCount': 1, 'discNumber': 1, 'trackCount': 1, 'trackNumber': 1, 'trackTimeMillis': 104072, 'country': 'USA', 'currency': 'USD', 'primaryGenreName': 'House', 'isStreamable': True}, {'wrapperType': 'track', 'kind': 'song', 'artistId': 1488501864, 'collectionId': 1488834297, 'trackId': 1488834303, 'artistName': 'Carpool Jones', 'collectionName': 'The Unending Trials and Tribulations of Carpool Jones', 'trackName': 'Track Name', 'collectionCensoredName': 'The Unending Trials and Tribulations of Carpool Jones', 'trackCensoredName': 'Track Name', 'artistViewUrl': 'https://music.apple.com/us/artist/carpool-jones/1488501864?uo=4', 'collectionViewUrl': 'https://music.apple.com/us/album/track-name/1488834297?i=1488834303&uo=4', 'trackViewUrl': 'https://music.apple.com/us/album/track-name/1488834297?i=1488834303&uo=4', 'previewUrl': 'https://audio-ssl.itunes.apple.com/itunes-assets/AudioPreview113/v4/0c/9e/97/0c9e97b7-c3a1-4c59-be74-250d3cef4fde/mzaf_8775739489797961553.plus.aac.p.m4a', 'artworkUrl30': 'https://is1-ssl.mzstatic.com/image/thumb/Music123/v4/1b/93/27/1b9327c3-daac-1b00-4ad7-63bf7b074c78/artwork.jpg/30x30bb.jpg', 'artworkUrl60': 'https://is1-ssl.mzstatic.com/image/thumb/Music123/v4/1b/93/27/1b9327c3-daac-1b00-4ad7-63bf7b074c78/artwork.jpg/60x60bb.jpg', 'artworkUrl100': 'https://is1-ssl.mzstatic.com/image/thumb/Music123/v4/1b/93/27/1b9327c3-daac-1b00-4ad7-63bf7b074c78/artwork.jpg/100x100bb.jpg', 'collectionPrice': 6.99, 'trackPrice': 0.69, 'releaseDate': '2019-11-19T12:00:00Z', 'collectionExplicitness': 'notExplicit', 'trackExplicitness': 'notExplicit', 'discCount': 1, 'discNumber': 1, 'trackCount': 16, 'trackNumber': 6, 'trackTimeMillis': 113500, 'country': 'USA', 'currency': 'USD', 'primaryGenreName': 'Alternative', 'isStreamable': True}, {'wrapperType': 'track', 'kind': 'song', 'artistId': 1514489511, 'collectionId': 1672813961, 'trackId': 1672814086, 'artistName': 'Simmons', 'collectionName': 'Track Name - Single', 'trackName': 'Track Name', 'collectionCensoredName': 'Track Name - Single', 'trackCensoredName': 'Track Name', 'artistViewUrl': 'https://music.apple.com/us/artist/simmons/1514489511?uo=4', 'collectionViewUrl': 'https://music.apple.com/us/album/track-name/1672813961?i=1672814086&uo=4', 'trackViewUrl': 'https://music.apple.com/us/album/track-name/1672813961?i=1672814086&uo=4', 'previewUrl': 'https://audio-ssl.itunes.apple.com/itunes-assets/AudioPreview116/v4/3f/49/e6/3f49e6ef-36e2-9682-d443-98cea4e94f25/mzaf_4503107527368438101.plus.aac.p.m4a', 'artworkUrl30': 'https://is1-ssl.mzstatic.com/image/thumb/Music116/v4/32/df/1a/32df1abe-b261-2dbe-796a-a8a0abe05ee9/054391504807.jpg/30x30bb.jpg', 'artworkUrl60': 'https://is1-ssl.mzstatic.com/image/thumb/Music116/v4/32/df/1a/32df1abe-b261-2dbe-796a-a8a0abe05ee9/054391504807.jpg/60x60bb.jpg', 'artworkUrl100': 'https://is1-ssl.mzstatic.com/image/thumb/Music116/v4/32/df/1a/32df1abe-b261-2dbe-796a-a8a0abe05ee9/054391504807.jpg/100x100bb.jpg', 'collectionPrice': 1.29, 'trackPrice': 1.29, 'releaseDate': '2020-06-11T12:00:00Z', 'collectionExplicitness': 'notExplicit', 'trackExplicitness': 'notExplicit', 'discCount': 1, 'discNumber': 1, 'trackCount': 1, 'trackNumber': 1, 'trackTimeMillis': 87273, 'country': 'USA', 'currency': 'USD', 'primaryGenreName': 'Pop', 'isStreamable': True}, {'wrapperType': 'track', 'kind': 'song', 'artistId': 1267807502, 'collectionId': 1609954652, 'trackId': 1609955019, 'artistName': 'Zrmpa', 'collectionName': 'Generation 2K18', 'trackName': 'Track Name', 'collectionCensoredName': 'Generation 2K18', 'trackCensoredName': 'Track Name', 'artistViewUrl': 'https://music.apple.com/us/artist/zrmpa/1267807502?uo=4', 'collectionViewUrl': 'https://music.apple.com/us/album/track-name/1609954652?i=1609955019&uo=4', 'trackViewUrl': 'https://music.apple.com/us/album/track-name/1609954652?i=1609955019&uo=4', 'previewUrl': 'https://audio-ssl.itunes.apple.com/itunes-assets/AudioPreview116/v4/64/db/e0/64dbe084-1910-f2a1-9229-10879ce49b2f/mzaf_11555947356832702376.plus.aac.p.m4a', 'artworkUrl30': 'https://is1-ssl.mzstatic.com/image/thumb/Music116/v4/1c/13/13/1c1313b5-8bf0-a6c9-331e-1dd09d9a4d89/7321170488577.png/30x30bb.jpg', 'artworkUrl60': 'https://is1-ssl.mzstatic.com/image/thumb/Music116/v4/1c/13/13/1c1313b5-8bf0-a6c9-331e-1dd09d9a4d89/7321170488577.png/60x60bb.jpg', 'artworkUrl100': 'https://is1-ssl.mzstatic.com/image/thumb/Music116/v4/1c/13/13/1c1313b5-8bf0-a6c9-331e-1dd09d9a4d89/7321170488577.png/100x100bb.jpg', 'collectionPrice': 9.99, 'trackPrice': 0.99, 'releaseDate': '2018-11-20T12:00:00Z', 'collectionExplicitness': 'notExplicit', 'trackExplicitness': 'notExplicit', 'discCount': 1, 'discNumber': 1, 'trackCount': 12, 'trackNumber': 6, 'trackTimeMillis': 212444, 'country': 'USA', 'currency': 'USD', 'primaryGenreName': 'Dance', 'isStreamable': True}, {'wrapperType': 'track', 'kind': 'song', 'artistId': 1267807502, 'collectionId': 1725099076, 'trackId': 1725099500, 'artistName': 'Zrmpa', 'collectionName': 'G2 - EP', 'trackName': 'Track Name', 'collectionCensoredName': 'G2 - EP', 'trackCensoredName': 'Track Name', 'artistViewUrl': 'https://music.apple.com/us/artist/zrmpa/1267807502?uo=4', 'collectionViewUrl': 'https://music.apple.com/us/album/track-name/1725099076?i=1725099500&uo=4', 'trackViewUrl': 'https://music.apple.com/us/album/track-name/1725099076?i=1725099500&uo=4', 'previewUrl': 'https://audio-ssl.itunes.apple.com/itunes-assets/AudioPreview126/v4/e9/8c/2b/e98c2bcf-ab25-52da-eb70-6e0c7222c009/mzaf_9297268814866625968.plus.aac.p.m4a', 'artworkUrl30': 'https://is1-ssl.mzstatic.com/image/thumb/Music126/v4/10/6a/dc/106adcc7-26c4-a232-d085-be041f816d78/0193537819570.png/30x30bb.jpg', 'artworkUrl60': 'https://is1-ssl.mzstatic.com/image/thumb/Music126/v4/10/6a/dc/106adcc7-26c4-a232-d085-be041f816d78/0193537819570.png/60x60bb.jpg', 'artworkUrl100': 'https://is1-ssl.mzstatic.com/image/thumb/Music126/v4/10/6a/dc/106adcc7-26c4-a232-d085-be041f816d78/0193537819570.png/100x100bb.jpg', 'collectionPrice': 3.96, 'trackPrice': 0.99, 'releaseDate': '2018-10-10T12:00:00Z', 'collectionExplicitness': 'cleaned', 'trackExplicitness': 'notExplicit', 'discCount': 1, 'discNumber': 1, 'trackCount': 4, 'trackNumber': 3, 'trackTimeMillis': 210339, 'country': 'USA', 'currency': 'USD', 'primaryGenreName': 'Dubstep', 'isStreamable': True}, {'wrapperType': 'track', 'kind': 'song', 'artistId': 1591385234, 'collectionId': 1591416433, 'trackId': 1591416437, 'artistName': 'Monwolf', 'collectionName': 'Track Name - Single', 'trackName': 'Track Name', 'collectionCensoredName': 'Track Name - Single', 'trackCensoredName': 'Track Name', 'artistViewUrl': 'https://music.apple.com/us/artist/monwolf/1591385234?uo=4', 'collectionViewUrl': 'https://music.apple.com/us/album/track-name/1591416433?i=1591416437&uo=4', 'trackViewUrl': 'https://music.apple.com/us/album/track-name/1591416433?i=1591416437&uo=4', 'previewUrl': 'https://audio-ssl.itunes.apple.com/itunes-assets/AudioPreview115/v4/4d/31/9d/4d319d41-58d7-12a6-42d4-8cd371ff89fb/mzaf_16249133612639126907.plus.aac.p.m4a', 'artworkUrl30': 'https://is1-ssl.mzstatic.com/image/thumb/Music116/v4/f3/6c/00/f36c009d-e2e5-21e4-84bc-78189d439c97/5059324689434.jpg/30x30bb.jpg', 'artworkUrl60': 'https://is1-ssl.mzstatic.com/image/thumb/Music116/v4/f3/6c/00/f36c009d-e2e5-21e4-84bc-78189d439c97/5059324689434.jpg/60x60bb.jpg', 'artworkUrl100': 'https://is1-ssl.mzstatic.com/image/thumb/Music116/v4/f3/6c/00/f36c009d-e2e5-21e4-84bc-78189d439c97/5059324689434.jpg/100x100bb.jpg', 'collectionPrice': 0.99, 'trackPrice': 0.99, 'releaseDate': '2021-05-28T12:00:00Z', 'collectionExplicitness': 'notExplicit', 'trackExplicitness': 'notExplicit', 'discCount': 1, 'discNumber': 1, 'trackCount': 1, 'trackNumber': 1, 'trackTimeMillis': 84010, 'country': 'USA', 'currency': 'USD', 'primaryGenreName': 'Pop', 'isStreamable': True}, {'wrapperType': 'track', 'kind': 'song', 'artistId': 1688205705, 'collectionId': 1703859353, 'trackId': 1703859589, 'artistName': 'Gmni', 'collectionName': 'On the Count of Three', 'trackName': 'Track Name', 'collectionCensoredName': 'On the Count of Three', 'trackCensoredName': 'Track Name', 'artistViewUrl': 'https://music.apple.com/us/artist/gmni/1688205705?uo=4', 'collectionViewUrl': 'https://music.apple.com/us/album/track-name/1703859353?i=1703859589&uo=4', 'trackViewUrl': 'https://music.apple.com/us/album/track-name/1703859353?i=1703859589&uo=4', 'previewUrl': 'https://audio-ssl.itunes.apple.com/itunes-assets/AudioPreview116/v4/a6/2c/4c/a62c4cf0-9971-aaaa-c743-0aac738f09d6/mzaf_15631802281774658850.plus.aac.p.m4a', 'artworkUrl30': 'https://is1-ssl.mzstatic.com/image/thumb/Music126/v4/60/ed/39/60ed3989-05fc-cacd-1a99-3c51ad4ae89b/113b17ba-8bbe-4964-af84-d073e7213784.jpg/30x30bb.jpg', 'artworkUrl60': 'https://is1-ssl.mzstatic.com/image/thumb/Music126/v4/60/ed/39/60ed3989-05fc-cacd-1a99-3c51ad4ae89b/113b17ba-8bbe-4964-af84-d073e7213784.jpg/60x60bb.jpg', 'artworkUrl100': 'https://is1-ssl.mzstatic.com/image/thumb/Music126/v4/60/ed/39/60ed3989-05fc-cacd-1a99-3c51ad4ae89b/113b17ba-8bbe-4964-af84-d073e7213784.jpg/100x100bb.jpg', 'collectionPrice': 10.99, 'trackPrice': 0.99, 'releaseDate': '2023-08-26T12:00:00Z', 'collectionExplicitness': 'notExplicit', 'trackExplicitness': 'notExplicit', 'discCount': 1, 'discNumber': 1, 'trackCount': 13, 'trackNumber': 7, 'trackTimeMillis': 85278, 'country': 'USA', 'currency': 'USD', 'primaryGenreName': 'Alternative', 'isStreamable': True}, {'wrapperType': 'track', 'kind': 'song', 'artistId': 1736985251, 'collectionId': 1755932680, 'trackId': 1755932685, 'artistName': 'DKmyan', 'collectionName': 'Beep', 'trackName': 'Track Name', 'collectionCensoredName': 'Beep', 'trackCensoredName': 'Track Name', 'artistViewUrl': 'https://music.apple.com/us/artist/dkmyan/1736985251?uo=4', 'collectionViewUrl': 'https://music.apple.com/us/album/track-name/1755932680?i=1755932685&uo=4', 'trackViewUrl': 'https://music.apple.com/us/album/track-name/1755932680?i=1755932685&uo=4', 'previewUrl': 'https://audio-ssl.itunes.apple.com/itunes-assets/AudioPreview211/v4/a1/dd/d4/a1ddd470-d739-10f6-4112-189f02482a2a/mzaf_11557902666258163071.plus.aac.p.m4a', 'artworkUrl30': 'https://is1-ssl.mzstatic.com/image/thumb/Music221/v4/3e/cc/41/3ecc41c4-4cef-6854-8343-1ef7b7ff08ad/artwork.jpg/30x30bb.jpg', 'artworkUrl60': 'https://is1-ssl.mzstatic.com/image/thumb/Music221/v4/3e/cc/41/3ecc41c4-4cef-6854-8343-1ef7b7ff08ad/artwork.jpg/60x60bb.jpg', 'artworkUrl100': 'https://is1-ssl.mzstatic.com/image/thumb/Music221/v4/3e/cc/41/3ecc41c4-4cef-6854-8343-1ef7b7ff08ad/artwork.jpg/100x100bb.jpg', 'collectionPrice': 5.52, 'trackPrice': 0.69, 'releaseDate': '2024-07-16T12:00:00Z', 'collectionExplicitness': 'notExplicit', 'trackExplicitness': 'notExplicit', 'discCount': 1, 'discNumber': 1, 'trackCount': 8, 'trackNumber': 5, 'trackTimeMillis': 121604, 'country': 'USA', 'currency': 'USD', 'primaryGenreName': 'Dance', 'isStreamable': True}, {'wrapperType': 'track', 'kind': 'song', 'artistId': 1775104874, 'collectionId': 1775104873, 'trackId': 1775105034, 'artistName': 'AI Liyan', 'collectionName': 'Wonderful Piano', 'trackName': 'Track Name', 'collectionCensoredName': 'Wonderful Piano', 'trackCensoredName': 'Track Name', 'artistViewUrl': 'https://music.apple.com/us/artist/ai-liyan/1775104874?uo=4', 'collectionViewUrl': 'https://music.apple.com/us/album/track-name/1775104873?i=1775105034&uo=4', 'trackViewUrl': 'https://music.apple.com/us/album/track-name/1775104873?i=1775105034&uo=4', 'previewUrl': 'https://audio-ssl.itunes.apple.com/itunes-assets/AudioPreview221/v4/d4/78/5c/d4785c9b-b20b-b1c9-220d-9d655e401935/mzaf_8250358936876291212.plus.aac.p.m4a', 'artworkUrl30': 'https://is1-ssl.mzstatic.com/image/thumb/Music221/v4/ff/8f/6c/ff8f6c50-6d70-fe5e-252b-079e2942b37d/8447352193387.jpg/30x30bb.jpg', 'artworkUrl60': 'https://is1-ssl.mzstatic.com/image/thumb/Music221/v4/ff/8f/6c/ff8f6c50-6d70-fe5e-252b-079e2942b37d/8447352193387.jpg/60x60bb.jpg', 'artworkUrl100': 'https://is1-ssl.mzstatic.com/image/thumb/Music221/v4/ff/8f/6c/ff8f6c50-6d70-fe5e-252b-079e2942b37d/8447352193387.jpg/100x100bb.jpg', 'collectionPrice': 10.99, 'trackPrice': 1.29, 'releaseDate': '2024-10-10T12:00:00Z', 'collectionExplicitness': 'notExplicit', 'trackExplicitness': 'notExplicit', 'discCount': 1, 'discNumber': 1, 'trackCount': 10, 'trackNumber': 10, 'trackTimeMillis': 68780, 'country': 'USA', 'currency': 'USD', 'primaryGenreName': 'Alternative', 'isStreamable': True}, {'wrapperType': 'track', 'kind': 'song', 'artistId': 941399314, 'collectionId': 944526616, 'trackId': 944526624, 'artistName': 'Kroso', 'collectionName': 'Nightmares - EP', 'trackName': '>track Name<', 'collectionCensoredName': 'Nightmares - EP', 'trackCensoredName': '>track Name<', 'artistViewUrl': 'https://music.apple.com/us/artist/kroso/941399314?uo=4', 'collectionViewUrl': 'https://music.apple.com/us/album/track-name/944526616?i=944526624&uo=4', 'trackViewUrl': 'https://music.apple.com/us/album/track-name/944526616?i=944526624&uo=4', 'previewUrl': 'https://audio-ssl.itunes.apple.com/itunes-assets/Music1/v4/54/f4/d6/54f4d656-07c3-c812-9376-ea188babed00/mzaf_4966592820647988781.plus.aac.p.m4a', 'artworkUrl30': 'https://is1-ssl.mzstatic.com/image/thumb/Music1/v4/9d/7f/cd/9d7fcdb8-1f0b-76fd-e7b1-ae120f74c990/811868546162_cover.jpg/30x30bb.jpg', 'artworkUrl60': 'https://is1-ssl.mzstatic.com/image/thumb/Music1/v4/9d/7f/cd/9d7fcdb8-1f0b-76fd-e7b1-ae120f74c990/811868546162_cover.jpg/60x60bb.jpg', 'artworkUrl100': 'https://is1-ssl.mzstatic.com/image/thumb/Music1/v4/9d/7f/cd/9d7fcdb8-1f0b-76fd-e7b1-ae120f74c990/811868546162_cover.jpg/100x100bb.jpg', 'collectionPrice': 3.99, 'trackPrice': 0.69, 'releaseDate': '2014-11-28T12:00:00Z', 'collectionExplicitness': 'notExplicit', 'trackExplicitness': 'notExplicit', 'discCount': 1, 'discNumber': 1, 'trackCount': 6, 'trackNumber': 2, 'trackTimeMillis': 371304, 'country': 'USA', 'currency': 'USD', 'primaryGenreName': 'House', 'isStreamable': True}, {'wrapperType': 'track', 'kind': 'song', 'artistId': 1527857228, 'collectionId': 1739924189, 'trackId': 1739924192, 'artistName': 'CasualCreative', 'collectionName': 'Talk to Me - EP', 'trackName': 'Track Name', 'collectionCensoredName': 'Talk to Me - EP', 'trackCensoredName': 'Track Name', 'artistViewUrl': 'https://music.apple.com/us/artist/casualcreative/1527857228?uo=4', 'collectionViewUrl': 'https://music.apple.com/us/album/track-name/1739924189?i=1739924192&uo=4', 'trackViewUrl': 'https://music.apple.com/us/album/track-name/1739924189?i=1739924192&uo=4', 'previewUrl': 'https://audio-ssl.itunes.apple.com/itunes-assets/AudioPreview221/v4/8a/8e/de/8a8edeb8-1c2f-ea6a-5488-0b284379756d/mzaf_15234174960981695614.plus.aac.p.m4a', 'artworkUrl30': 'https://is1-ssl.mzstatic.com/image/thumb/Music211/v4/ef/bc/19/efbc19b2-94a6-a67e-e8e5-3039c4be9bb0/cover.jpg/30x30bb.jpg', 'artworkUrl60': 'https://is1-ssl.mzstatic.com/image/thumb/Music211/v4/ef/bc/19/efbc19b2-94a6-a67e-e8e5-3039c4be9bb0/cover.jpg/60x60bb.jpg', 'artworkUrl100': 'https://is1-ssl.mzstatic.com/image/thumb/Music211/v4/ef/bc/19/efbc19b2-94a6-a67e-e8e5-3039c4be9bb0/cover.jpg/100x100bb.jpg', 'collectionPrice': 1.99, 'trackPrice': 0.99, 'releaseDate': '2024-03-10T12:00:00Z', 'collectionExplicitness': 'notExplicit', 'trackExplicitness': 'notExplicit', 'discCount': 1, 'discNumber': 1, 'trackCount': 4, 'trackNumber': 3, 'trackTimeMillis': 233663, 'country': 'USA', 'currency': 'USD', 'primaryGenreName': 'Electronic', 'isStreamable': True}, {'wrapperType': 'track', 'kind': 'song', 'artistId': 563898258, 'collectionId': 1657054351, 'trackId': 1657054352, 'artistName': 'ACSourse', 'collectionName': 'Public String Trackname - Single', 'trackName': 'Public String Trackname', 'collectionCensoredName': 'Public String Trackname - Single', 'trackCensoredName': 'Public String Trackname', 'artistViewUrl': 'https://music.apple.com/us/artist/acsourse/563898258?uo=4', 'collectionViewUrl': 'https://music.apple.com/us/album/public-string-trackname/1657054351?i=1657054352&uo=4', 'trackViewUrl': 'https://music.apple.com/us/album/public-string-trackname/1657054351?i=1657054352&uo=4', 'previewUrl': 'https://audio-ssl.itunes.apple.com/itunes-assets/AudioPreview112/v4/77/8e/a1/778ea1ff-db06-938f-e6a5-5a418e0c8ad4/mzaf_2990039120374111739.plus.aac.p.m4a', 'artworkUrl30': 'https://is1-ssl.mzstatic.com/image/thumb/Music122/v4/bb/0c/78/bb0c78ec-126b-3b32-5e8f-61e7882622d7/cover.jpg/30x30bb.jpg', 'artworkUrl60': 'https://is1-ssl.mzstatic.com/image/thumb/Music122/v4/bb/0c/78/bb0c78ec-126b-3b32-5e8f-61e7882622d7/cover.jpg/60x60bb.jpg', 'artworkUrl100': 'https://is1-ssl.mzstatic.com/image/thumb/Music122/v4/bb/0c/78/bb0c78ec-126b-3b32-5e8f-61e7882622d7/cover.jpg/100x100bb.jpg', 'collectionPrice': 0.69, 'trackPrice': 0.69, 'releaseDate': '2022-11-17T12:00:00Z', 'collectionExplicitness': 'notExplicit', 'trackExplicitness': 'notExplicit', 'discCount': 1, 'discNumber': 1, 'trackCount': 1, 'trackNumber': 1, 'trackTimeMillis': 223200, 'country': 'USA', 'currency': 'USD', 'primaryGenreName': 'Electronic', 'isStreamable': True}, {'wrapperType': 'track', 'kind': 'song', 'artistId': 1490933189, 'collectionId': 1623667434, 'trackId': 1623667435, 'artistName': 'Sojourner', 'collectionName': \"Now That's What I Call a Trackname - Single\", 'trackName': \"Now That's What I Call a Trackname\", 'collectionCensoredName': \"Now That's What I Call a Trackname - Single\", 'trackCensoredName': \"Now That's What I Call a Trackname\", 'artistViewUrl': 'https://music.apple.com/us/artist/sojourner/1490933189?uo=4', 'collectionViewUrl': 'https://music.apple.com/us/album/now-thats-what-i-call-a-trackname/1623667434?i=1623667435&uo=4', 'trackViewUrl': 'https://music.apple.com/us/album/now-thats-what-i-call-a-trackname/1623667434?i=1623667435&uo=4', 'previewUrl': 'https://audio-ssl.itunes.apple.com/itunes-assets/AudioPreview116/v4/db/b0/e1/dbb0e1ab-19f1-fe42-6190-0c5e5b15dffd/mzaf_4115429319999163047.plus.aac.p.m4a', 'artworkUrl30': 'https://is1-ssl.mzstatic.com/image/thumb/Music116/v4/9b/12/4a/9b124a9c-f4ff-8301-1a33-16222e8dff5e/artwork.jpg/30x30bb.jpg', 'artworkUrl60': 'https://is1-ssl.mzstatic.com/image/thumb/Music116/v4/9b/12/4a/9b124a9c-f4ff-8301-1a33-16222e8dff5e/artwork.jpg/60x60bb.jpg', 'artworkUrl100': 'https://is1-ssl.mzstatic.com/image/thumb/Music116/v4/9b/12/4a/9b124a9c-f4ff-8301-1a33-16222e8dff5e/artwork.jpg/100x100bb.jpg', 'collectionPrice': 0.99, 'trackPrice': 0.99, 'releaseDate': '2022-05-11T12:00:00Z', 'collectionExplicitness': 'notExplicit', 'trackExplicitness': 'notExplicit', 'discCount': 1, 'discNumber': 1, 'trackCount': 1, 'trackNumber': 1, 'trackTimeMillis': 236364, 'country': 'USA', 'currency': 'USD', 'primaryGenreName': 'Dance', 'isStreamable': True}]}\n"
     ]
    }
   ],
   "source": [
    "import requests\n",
    "import json  \n",
    "\n",
    "url1 = \"https://itunes.apple.com/search?term={track_name}&media=music\"\n",
    "response = requests.get(url1)\n",
    "\n",
    "if response.status_code == 200:\n",
    "    print('ok')\n",
    "    data = response.json()\n",
    "    print(data)\n",
    "else:\n",
    "    print(f\"{response.status_code}:Failed!\")\n",
    "\n",
    "with open('api.json', 'w') as file:  \n",
    "    json.dump(data, file, indent=4)\n",
    "\n",
    "\n",
    "\n",
    "\n"
   ]
  },
  {
   "cell_type": "code",
   "execution_count": 48,
   "id": "688bf9e9",
   "metadata": {},
   "outputs": [
    {
     "name": "stdout",
     "output_type": "stream",
     "text": [
      "Match Found:\n",
      " Track: In het stille klooster\n",
      "Artist: TRACKNAME\n",
      "Album: De Kist Van Pierlala\n",
      "Link: https://music.apple.com/us/album/in-het-stille-klooster/934490744?i=934494000&uo=4\n",
      "\n"
     ]
    }
   ],
   "source": [
    "import requests\n",
    "\n",
    "class Music:\n",
    "    def __init__(self, track_name, artist_name, album_name, link):\n",
    "        self.track_name = track_name\n",
    "        self.artist_name = artist_name\n",
    "        self.album_name = album_name\n",
    "        self.link = link\n",
    "\n",
    "    def __str__(self):\n",
    "        return f\"Track: {self.track_name}\\nArtist: {self.artist_name}\\nAlbum: {self.album_name}\\nLink: {self.link}\\n\"\n",
    "\n",
    "class MusicInfo:\n",
    "    def __init__(self, url):\n",
    "        self.url = url\n",
    "\n",
    "    def get_response(self):\n",
    "        response = requests.get(self.url)\n",
    "        if response.status_code == 200:\n",
    "            return response.json()\n",
    "        print(\"Failed API.\")\n",
    "        return {}\n",
    "\n",
    "    @staticmethod\n",
    "    def read_data(music):\n",
    "        track_name = music.get(\"trackName\", \"No Title!\")\n",
    "        artist_name = music.get(\"artistName\", \"Unknown\")\n",
    "        album_name = music.get(\"collectionName\", \"Unknown\")\n",
    "        link = music.get(\"trackViewUrl\", \"No Link\")\n",
    "        return track_name, artist_name, album_name, link\n",
    "\n",
    "    def music_object(self):\n",
    "        data = self.get_response()\n",
    "        if not data:\n",
    "            return []\n",
    "        \n",
    "        music_items = data.get(\"results\", [])\n",
    "        musics = []\n",
    "        for music in music_items:\n",
    "            track_name, artist_name, album_name, link = self.read_data(music)\n",
    "            music_obj = Music(track_name, artist_name, album_name, link)\n",
    "            musics.append(music_obj)\n",
    "        return musics\n",
    "    \n",
    "class FindMusic:\n",
    "    def __init__(self, name):\n",
    "        self.name = name \n",
    "    \n",
    "    def check_music(self, musics):\n",
    "        for music in musics:\n",
    "            if self.name.lower() == music.track_name.lower():\n",
    "                print(\"Match Found:\\n\", music)\n",
    "                return\n",
    "        print(\"This Track Does not match any in the results.\")\n",
    "\n",
    "\n",
    "if __name__ == \"__main__\":\n",
    "    url = \"https://itunes.apple.com/search?term={track_name}&media=music\"\n",
    "    miu1 = MusicInfo(url)\n",
    "    musics = miu1.music_object()\n",
    "    findiing = input(\"Please Give an Track Name to search and gave Info FOr you: \")\n",
    "    tr = FindMusic(findiing)\n",
    "    tr.check_music(musics)\n",
    "    \n",
    "\n",
    "\n",
    "#if you want to take all musics INfo Run This \n",
    "#for music in musics:\n",
    "#       print(music)"
   ]
  },
  {
   "cell_type": "markdown",
   "id": "293056e3",
   "metadata": {},
   "source": [
    "<h2 style=\"color: blue:; background-color: purple\">Don't give up on your dreams :)</h2>"
   ]
  }
 ],
 "metadata": {
  "kernelspec": {
   "display_name": "Python 3",
   "language": "python",
   "name": "python3"
  },
  "language_info": {
   "codemirror_mode": {
    "name": "ipython",
    "version": 3
   },
   "file_extension": ".py",
   "mimetype": "text/x-python",
   "name": "python",
   "nbconvert_exporter": "python",
   "pygments_lexer": "ipython3",
   "version": "3.12.4"
  }
 },
 "nbformat": 4,
 "nbformat_minor": 5
}
