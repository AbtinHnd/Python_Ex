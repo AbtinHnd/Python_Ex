{
 "cells": [
  {
   "cell_type": "markdown",
   "id": "fb7a8054",
   "metadata": {},
   "source": [
    "<div style=\"color: white;padding-top:18px;text-align:center;background-color:#8B008B;border-radius:15px;border: 1px solid white;\"> \n",
    "    <h3>Exercise 19 (score:120 + 50)</h3>\n",
    "</div>"
   ]
  },
  {
   "cell_type": "markdown",
   "id": "bd5458df",
   "metadata": {},
   "source": [
    "<div style=\"color: black;font-family:Georgia;padding-top:18px;text-align:left;background-color:lightskyblue;border-radius:15px;border: 2px solid cornflowerblue;\">\n",
    "    <h4>Question 01 (Encapsulation)(150):</h4>\n",
    "    <p>Design a class called BankAccount with three attributes:</p> \n",
    "    <p>accountNumber (public), balance (protected), password (private).</p>\n",
    "<li>In the BankAccount class, write methods to get and set the balance and password attributes, ensuring proper access control by using getters and setters where necessary.</li>\n",
    "<li>Create a subclass called SavingsAccount, which should try to access the balance and password attributes directly. After encountering access issues, modify the subclass to use the getter and setter methods to access these attributes.</li>\n",
    "<li>Finally, create an object of the BankAccount class and try to access and print the accountNumber, balance, and password attributes directly. Use the getter and setter methods when necessary for accessing the balance and password or changing them.</li> \n",
    "<p>Write comment for:</p>\n",
    "\n",
    "<ul>What happens when accessing each attribute directly.</ul>\n",
    "<ul>Why it is necessary to use getters and setters for certain attributes.</ul>\n",
    "    \n",
    "</div>"
   ]
  },
  {
   "cell_type": "code",
   "execution_count": 2,
   "id": "99937553-2a26-4787-b365-d46f41243c5e",
   "metadata": {},
   "outputs": [
    {
     "ename": "AttributeError",
     "evalue": "'SavingAccount' object has no attribute 'balance'",
     "output_type": "error",
     "traceback": [
      "\u001b[1;31m---------------------------------------------------------------------------\u001b[0m",
      "\u001b[1;31mAttributeError\u001b[0m                            Traceback (most recent call last)",
      "Cell \u001b[1;32mIn[2], line 34\u001b[0m\n\u001b[0;32m     29\u001b[0m         \u001b[38;5;28mprint\u001b[39m(\u001b[38;5;124mf\u001b[39m\u001b[38;5;124m'\u001b[39m\u001b[38;5;132;01m{\u001b[39;00m\u001b[38;5;28mself\u001b[39m\u001b[38;5;241m.\u001b[39maccountnumber\u001b[38;5;132;01m}\u001b[39;00m\u001b[38;5;124m // \u001b[39m\u001b[38;5;132;01m{\u001b[39;00m\u001b[38;5;28mself\u001b[39m\u001b[38;5;241m.\u001b[39mbalance\u001b[38;5;132;01m}\u001b[39;00m\u001b[38;5;124m // \u001b[39m\u001b[38;5;132;01m{\u001b[39;00m\u001b[38;5;28mself\u001b[39m\u001b[38;5;241m.\u001b[39mpassword\u001b[38;5;132;01m}\u001b[39;00m\u001b[38;5;124m'\u001b[39m)\n\u001b[0;32m     33\u001b[0m s1 \u001b[38;5;241m=\u001b[39m SavingAccount(\u001b[38;5;241m14\u001b[39m,\u001b[38;5;241m200\u001b[39m,\u001b[38;5;124m'\u001b[39m\u001b[38;5;124masdasd\u001b[39m\u001b[38;5;124m'\u001b[39m)\n\u001b[1;32m---> 34\u001b[0m \u001b[43ms1\u001b[49m\u001b[38;5;241;43m.\u001b[39;49m\u001b[43mshow_info\u001b[49m\u001b[43m(\u001b[49m\u001b[43m)\u001b[49m\n",
      "Cell \u001b[1;32mIn[2], line 29\u001b[0m, in \u001b[0;36mSavingAccount.show_info\u001b[1;34m(self)\u001b[0m\n\u001b[0;32m     28\u001b[0m \u001b[38;5;28;01mdef\u001b[39;00m \u001b[38;5;21mshow_info\u001b[39m(\u001b[38;5;28mself\u001b[39m):\n\u001b[1;32m---> 29\u001b[0m     \u001b[38;5;28mprint\u001b[39m(\u001b[38;5;124mf\u001b[39m\u001b[38;5;124m'\u001b[39m\u001b[38;5;132;01m{\u001b[39;00m\u001b[38;5;28mself\u001b[39m\u001b[38;5;241m.\u001b[39maccountnumber\u001b[38;5;132;01m}\u001b[39;00m\u001b[38;5;124m // \u001b[39m\u001b[38;5;132;01m{\u001b[39;00m\u001b[38;5;28;43mself\u001b[39;49m\u001b[38;5;241;43m.\u001b[39;49m\u001b[43mbalance\u001b[49m\u001b[38;5;132;01m}\u001b[39;00m\u001b[38;5;124m // \u001b[39m\u001b[38;5;132;01m{\u001b[39;00m\u001b[38;5;28mself\u001b[39m\u001b[38;5;241m.\u001b[39mpassword\u001b[38;5;132;01m}\u001b[39;00m\u001b[38;5;124m'\u001b[39m)\n",
      "\u001b[1;31mAttributeError\u001b[0m: 'SavingAccount' object has no attribute 'balance'"
     ]
    }
   ],
   "source": [
    "class BankAccount:\n",
    "    def __init__(self,account_number,balance,password):\n",
    "        self.accountnumber = account_number\n",
    "        self._balance = balance\n",
    "        self.__password = password\n",
    "\n",
    "\n",
    "\n",
    "\n",
    "\n",
    "class SavingAccount(BankAccount):\n",
    "    def __init__(self, account_number, balance, password):\n",
    "        super().__init__(account_number, balance, password)\n",
    "    def show_info(self):\n",
    "        print(f'{self.accountnumber} // {self.balance} // {self.password}')\n",
    "\n",
    "    \n",
    "\n",
    "s1 = SavingAccount(14,200,'asdasd')\n",
    "s1.show_info()\n",
    "\n",
    "\n",
    "\n",
    "\n",
    "#in this code we have error becuase we used __password in the parent class and we can't access it in the child class\n",
    "# and -balance is a protected variable so we can't access out of the class"
   ]
  },
  {
   "cell_type": "code",
   "execution_count": 5,
   "id": "2b9a996a",
   "metadata": {},
   "outputs": [
    {
     "name": "stdout",
     "output_type": "stream",
     "text": [
      "14 // 200 // asdasd\n",
      "Balance can not be a negative number\n",
      "14 // 100 // 123456\n"
     ]
    }
   ],
   "source": [
    "class BankAccount:\n",
    "    def __init__(self,account_number,balance,password):\n",
    "        self.accountnumber = account_number\n",
    "        self._balance = balance\n",
    "        self.__password = password\n",
    "    @property\n",
    "    def balance(self):\n",
    "        return self._balance\n",
    "    @property\n",
    "    def password(self):\n",
    "        return self.__password\n",
    "\n",
    "    @balance.setter\n",
    "    def balance(self,new_balance):\n",
    "        if new_balance < 0 :\n",
    "            print('Balance can not be a negative number')\n",
    "        self._balance = new_balance\n",
    "    @password.setter\n",
    "    def password(self,new_password):\n",
    "        self.__password = new_password\n",
    "\n",
    "\n",
    "\n",
    "\n",
    "class SavingAccount(BankAccount):\n",
    "    def __init__(self, account_number, balance, password):\n",
    "        super().__init__(account_number, balance, password)\n",
    "    def show_info(self):\n",
    "        print(f'{self.accountnumber} // {self.balance} // {self.password}')\n",
    "\n",
    "    \n",
    "\n",
    "s1 = SavingAccount(14,200,'asdasd')\n",
    "s1.show_info()\n",
    "s1.balance = -100\n",
    "s1.balance = 100\n",
    "s1.password = '123456'\n",
    "s1.show_info()\n",
    "\n",
    "\n",
    "#After we use getter and setter then we can access to the balance and password in child class and we can change the value of balance and password\n"
   ]
  },
  {
   "cell_type": "code",
   "execution_count": 9,
   "id": "5587b88b",
   "metadata": {},
   "outputs": [
    {
     "name": "stdout",
     "output_type": "stream",
     "text": [
      "14 ** 200 ** asdasd\n",
      "\n",
      "14 ** 450 ** 123456\n"
     ]
    }
   ],
   "source": [
    "class BankAccount:\n",
    "    def __init__(self,account_number,balance,password):\n",
    "        self.accountnumber = account_number\n",
    "        self._balance = balance\n",
    "        self.__password = password\n",
    "    def information(self):\n",
    "        print(f'{self.accountnumber} ** {self.balance} ** {self.password}')\n",
    "    @property\n",
    "    def balance(self):\n",
    "        return self._balance\n",
    "    @property\n",
    "    def password(self):\n",
    "        return self.__password\n",
    "\n",
    "    @balance.setter\n",
    "    def balance(self,new_balance):\n",
    "        if new_balance < 0 :\n",
    "            print('Balance can not be a negative number')\n",
    "        self._balance = new_balance\n",
    "    @password.setter\n",
    "    def password(self,new_password):\n",
    "        self.__password = new_password\n",
    "\n",
    "\n",
    "\n",
    "\n",
    "class SavingAccount(BankAccount):\n",
    "    def __init__(self, account_number, balance, password):\n",
    "        super().__init__(account_number, balance, password)\n",
    "    def show_info(self):\n",
    "        print(f'{self.accountnumber} // {self.balance} // {self.password}')\n",
    "\n",
    "    \n",
    "\n",
    "b1 = BankAccount(14,200,'asdasd')\n",
    "b1.information()\n",
    "print()\n",
    "b1.balance = 450\n",
    "b1.password = '123456'\n",
    "b1.information()\n",
    "\n",
    "'''for access to _balance and __password we should use getter and setter in the parent class and then we can access to them \n",
    " in the child class and either out of class and we can change the value of them'''\n"
   ]
  },
  {
   "cell_type": "markdown",
   "id": "da685236",
   "metadata": {},
   "source": [
    "in this code when we tru to access directly in child class just can use _balance and acccountnumber but we can't use _balance in out of classes \n",
    "__password attribute just can define in BankAccount class and can't use in cild class too \n",
    "we can hande all of this with getter and setter altought we can access in other ways but they are iligal in python\n",
    " "
   ]
  },
  {
   "cell_type": "markdown",
   "id": "d05c947f",
   "metadata": {},
   "source": [
    "<div style=\"color: white;padding-top:18px;text-align:center;background-color:#8B008B;border-radius:15px;border: 1px solid white;\"> \n",
    "    <h3>Exercise 20 (score:250 + 50)</h3>\n",
    "</div>"
   ]
  },
  {
   "cell_type": "markdown",
   "id": "34326ff6",
   "metadata": {},
   "source": [
    "<div style=\"color: black;font-family:Georgia;padding-top:18px;text-align:left;background-color:lightskyblue;border-radius:15px;border: 2px solid cornflowerblue;\">\n",
    "    <h4>Question 01(OOP) (Project)(180):</h4>\n",
    "    <p>Create a Python project that involves a class named BankAccount with the following attributes and methods:</p>\n",
    "    <p> Attributes:</p>\n",
    "    <li>account_holder: The name of the account holder.</li>\n",
    "    <li>balance: The current balance of the account.</li>\n",
    "    <li>account_number: A unique numeric identifier for the account.</li>\n",
    "<p> Methods:<p>\n",
    "<li>deposit(amount): Adds the specified amount to the account balance.</li>\n",
    "<li> withdraw(amount): Deducts the specified amount from the balance. If the amount exceeds the balance, it should raise a custom exception InsufficientFundsError.<li>\n",
    "<li>check_balance(): Prints the current balance.</li>\n",
    "<li>transfer_to(another_account, amount): Transfers a specified amount to another account, reducing the balance from the current account and adding it to another_account. If the balance is insufficient, raise the InsufficientFundsError.</li>\n",
    "<p>Additionally, implement a custom exception class named InsufficientFundsError that is raised whenever a withdrawal or transfer operation exceeds the available balance.</p>\n",
    "</div>"
   ]
  },
  {
   "cell_type": "code",
   "execution_count": 18,
   "id": "8e03d1e3",
   "metadata": {},
   "outputs": [
    {
     "name": "stdout",
     "output_type": "stream",
     "text": [
      "Balance: 20000\n",
      "Balance: 30000\n",
      "Balance: 101000\n"
     ]
    },
    {
     "ename": "InsufficientFundsError",
     "evalue": "Insufficient Funds Error!!",
     "output_type": "error",
     "traceback": [
      "\u001b[1;31m---------------------------------------------------------------------------\u001b[0m",
      "\u001b[1;31mInsufficientFundsError\u001b[0m                    Traceback (most recent call last)",
      "Cell \u001b[1;32mIn[18], line 37\u001b[0m\n\u001b[0;32m     35\u001b[0m b\u001b[38;5;241m.\u001b[39mtransfer_to(c,\u001b[38;5;241m1000\u001b[39m)\n\u001b[0;32m     36\u001b[0m c\u001b[38;5;241m.\u001b[39mcheck_balance()\n\u001b[1;32m---> 37\u001b[0m \u001b[43mc\u001b[49m\u001b[38;5;241;43m.\u001b[39;49m\u001b[43mwithdraw\u001b[49m\u001b[43m(\u001b[49m\u001b[38;5;241;43m500000\u001b[39;49m\u001b[43m)\u001b[49m\n",
      "Cell \u001b[1;32mIn[18], line 16\u001b[0m, in \u001b[0;36mBankAcc.withdraw\u001b[1;34m(self, amount)\u001b[0m\n\u001b[0;32m     14\u001b[0m         \u001b[38;5;28mself\u001b[39m\u001b[38;5;241m.\u001b[39mbalance \u001b[38;5;241m-\u001b[39m\u001b[38;5;241m=\u001b[39m amount\n\u001b[0;32m     15\u001b[0m \u001b[38;5;28;01melse\u001b[39;00m:\n\u001b[1;32m---> 16\u001b[0m     \u001b[38;5;28;01mraise\u001b[39;00m InsufficientFundsError\n",
      "\u001b[1;31mInsufficientFundsError\u001b[0m: Insufficient Funds Error!!"
     ]
    }
   ],
   "source": [
    "\n",
    "class InsufficientFundsError(Exception):\n",
    "    def __init__(self,msg = 'Insufficient Funds Error!!'):\n",
    "        self.msg = msg\n",
    "        super().__init__(self.msg)\n",
    "class BankAcc:\n",
    "    def __init__(self,account_holder,balance,account_number):\n",
    "        self.account_holder = account_holder\n",
    "        self.balance = balance\n",
    "        self.account_number = account_number\n",
    "    def deposit(self,amount):\n",
    "        self.balance += amount\n",
    "    def withdraw(self,amount):\n",
    "        if amount <= self.balance:\n",
    "                self.balance -= amount\n",
    "        else:\n",
    "            raise InsufficientFundsError\n",
    "    def check_balance(self):\n",
    "        print(f\"Balance: {self.balance}\")\n",
    "    def transfer_to(self, another_account, amount):\n",
    "        if amount <= self.balance:\n",
    "            self.balance -= amount\n",
    "            another_account.balance += amount\n",
    "        else:\n",
    "            raise InsufficientFundsError\n",
    "\n",
    "\n",
    "\n",
    "\n",
    "\n",
    "b = BankAcc('meli',20000,1)\n",
    "c = BankAcc('sepah',100000,2)\n",
    "b.check_balance()\n",
    "b.deposit(10000)\n",
    "b.check_balance()\n",
    "b.transfer_to(c,1000)\n",
    "c.check_balance()\n",
    "c.withdraw(500000)\n",
    "        \n",
    "    "
   ]
  },
  {
   "cell_type": "markdown",
   "id": "293056e3",
   "metadata": {},
   "source": [
    "<h2 style=\"color: blue:; background-color: purple\">Don't give up on your dreams :)</h2>"
   ]
  }
 ],
 "metadata": {
  "kernelspec": {
   "display_name": "Python 3",
   "language": "python",
   "name": "python3"
  },
  "language_info": {
   "codemirror_mode": {
    "name": "ipython",
    "version": 3
   },
   "file_extension": ".py",
   "mimetype": "text/x-python",
   "name": "python",
   "nbconvert_exporter": "python",
   "pygments_lexer": "ipython3",
   "version": "3.12.4"
  }
 },
 "nbformat": 4,
 "nbformat_minor": 5
}
